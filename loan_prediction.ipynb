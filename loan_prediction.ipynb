{
  "nbformat": 4,
  "nbformat_minor": 0,
  "metadata": {
    "colab": {
      "name": "loan_prediction.ipynb",
      "provenance": [],
      "collapsed_sections": []
    },
    "kernelspec": {
      "display_name": "Python 3",
      "name": "python3"
    },
    "language_info": {
      "name": "python"
    }
  },
  "cells": [
    {
      "cell_type": "code",
      "metadata": {
        "id": "iFyXTt8tYhTf"
      },
      "source": [
        "import pandas as pd\n",
        "import missingno as msno\n",
        "import seaborn as sns\n",
        "import matplotlib.pyplot as plt\n",
        "import numpy as np\n",
        "# pd.set_option('display.max_columns', None)\n",
        "# pd.set_option('display.max_rows', None)"
      ],
      "execution_count": 1,
      "outputs": []
    },
    {
      "cell_type": "code",
      "metadata": {
        "id": "pOClQmmRmv9f"
      },
      "source": [
        "train_df=pd.read_csv(\"/content/drive/MyDrive/ML_Artivatic_dataset/train_indessa.csv\")\n",
        "test_df = pd.read_csv(\"/content/drive/MyDrive/ML_Artivatic_dataset/test_indessa.csv\")"
      ],
      "execution_count": 2,
      "outputs": []
    },
    {
      "cell_type": "markdown",
      "metadata": {
        "id": "-HNj6K6qtenO"
      },
      "source": [
        "## **EDA**"
      ]
    },
    {
      "cell_type": "code",
      "metadata": {
        "colab": {
          "base_uri": "https://localhost:8080/",
          "height": 438
        },
        "id": "eyWnZf7Um1g4",
        "outputId": "a28fdd1a-ff14-46cf-9c9f-199e4f869c5a"
      },
      "source": [
        "train_df.head()"
      ],
      "execution_count": 3,
      "outputs": [
        {
          "output_type": "execute_result",
          "data": {
            "text/html": [
              "<div>\n",
              "<style scoped>\n",
              "    .dataframe tbody tr th:only-of-type {\n",
              "        vertical-align: middle;\n",
              "    }\n",
              "\n",
              "    .dataframe tbody tr th {\n",
              "        vertical-align: top;\n",
              "    }\n",
              "\n",
              "    .dataframe thead th {\n",
              "        text-align: right;\n",
              "    }\n",
              "</style>\n",
              "<table border=\"1\" class=\"dataframe\">\n",
              "  <thead>\n",
              "    <tr style=\"text-align: right;\">\n",
              "      <th></th>\n",
              "      <th>member_id</th>\n",
              "      <th>loan_amnt</th>\n",
              "      <th>funded_amnt</th>\n",
              "      <th>funded_amnt_inv</th>\n",
              "      <th>term</th>\n",
              "      <th>batch_enrolled</th>\n",
              "      <th>int_rate</th>\n",
              "      <th>grade</th>\n",
              "      <th>sub_grade</th>\n",
              "      <th>emp_title</th>\n",
              "      <th>emp_length</th>\n",
              "      <th>home_ownership</th>\n",
              "      <th>annual_inc</th>\n",
              "      <th>verification_status</th>\n",
              "      <th>pymnt_plan</th>\n",
              "      <th>desc</th>\n",
              "      <th>purpose</th>\n",
              "      <th>title</th>\n",
              "      <th>zip_code</th>\n",
              "      <th>addr_state</th>\n",
              "      <th>dti</th>\n",
              "      <th>delinq_2yrs</th>\n",
              "      <th>inq_last_6mths</th>\n",
              "      <th>mths_since_last_delinq</th>\n",
              "      <th>mths_since_last_record</th>\n",
              "      <th>open_acc</th>\n",
              "      <th>pub_rec</th>\n",
              "      <th>revol_bal</th>\n",
              "      <th>revol_util</th>\n",
              "      <th>total_acc</th>\n",
              "      <th>initial_list_status</th>\n",
              "      <th>total_rec_int</th>\n",
              "      <th>total_rec_late_fee</th>\n",
              "      <th>recoveries</th>\n",
              "      <th>collection_recovery_fee</th>\n",
              "      <th>collections_12_mths_ex_med</th>\n",
              "      <th>mths_since_last_major_derog</th>\n",
              "      <th>application_type</th>\n",
              "      <th>verification_status_joint</th>\n",
              "      <th>last_week_pay</th>\n",
              "      <th>acc_now_delinq</th>\n",
              "      <th>tot_coll_amt</th>\n",
              "      <th>tot_cur_bal</th>\n",
              "      <th>total_rev_hi_lim</th>\n",
              "      <th>loan_status</th>\n",
              "    </tr>\n",
              "  </thead>\n",
              "  <tbody>\n",
              "    <tr>\n",
              "      <th>0</th>\n",
              "      <td>58189336</td>\n",
              "      <td>14350</td>\n",
              "      <td>14350</td>\n",
              "      <td>14350.0</td>\n",
              "      <td>36 months</td>\n",
              "      <td></td>\n",
              "      <td>19.19</td>\n",
              "      <td>E</td>\n",
              "      <td>E3</td>\n",
              "      <td>clerk</td>\n",
              "      <td>9 years</td>\n",
              "      <td>OWN</td>\n",
              "      <td>28700.0</td>\n",
              "      <td>Source Verified</td>\n",
              "      <td>n</td>\n",
              "      <td>NaN</td>\n",
              "      <td>debt_consolidation</td>\n",
              "      <td>Debt consolidation</td>\n",
              "      <td>349xx</td>\n",
              "      <td>FL</td>\n",
              "      <td>33.88</td>\n",
              "      <td>0.0</td>\n",
              "      <td>1.0</td>\n",
              "      <td>50.0</td>\n",
              "      <td>75.0</td>\n",
              "      <td>14.0</td>\n",
              "      <td>1.0</td>\n",
              "      <td>22515.0</td>\n",
              "      <td>73.1</td>\n",
              "      <td>28.0</td>\n",
              "      <td>f</td>\n",
              "      <td>1173.84</td>\n",
              "      <td>0.0</td>\n",
              "      <td>0.0</td>\n",
              "      <td>0.0</td>\n",
              "      <td>0.0</td>\n",
              "      <td>74.0</td>\n",
              "      <td>INDIVIDUAL</td>\n",
              "      <td>NaN</td>\n",
              "      <td>26th week</td>\n",
              "      <td>0.0</td>\n",
              "      <td>0.0</td>\n",
              "      <td>28699.0</td>\n",
              "      <td>30800.0</td>\n",
              "      <td>0</td>\n",
              "    </tr>\n",
              "    <tr>\n",
              "      <th>1</th>\n",
              "      <td>70011223</td>\n",
              "      <td>4800</td>\n",
              "      <td>4800</td>\n",
              "      <td>4800.0</td>\n",
              "      <td>36 months</td>\n",
              "      <td>BAT1586599</td>\n",
              "      <td>10.99</td>\n",
              "      <td>B</td>\n",
              "      <td>B4</td>\n",
              "      <td>Human Resources Specialist</td>\n",
              "      <td>&lt; 1 year</td>\n",
              "      <td>MORTGAGE</td>\n",
              "      <td>65000.0</td>\n",
              "      <td>Source Verified</td>\n",
              "      <td>n</td>\n",
              "      <td>NaN</td>\n",
              "      <td>home_improvement</td>\n",
              "      <td>Home improvement</td>\n",
              "      <td>209xx</td>\n",
              "      <td>MD</td>\n",
              "      <td>3.64</td>\n",
              "      <td>0.0</td>\n",
              "      <td>1.0</td>\n",
              "      <td>NaN</td>\n",
              "      <td>NaN</td>\n",
              "      <td>6.0</td>\n",
              "      <td>0.0</td>\n",
              "      <td>7624.0</td>\n",
              "      <td>23.2</td>\n",
              "      <td>13.0</td>\n",
              "      <td>w</td>\n",
              "      <td>83.95</td>\n",
              "      <td>0.0</td>\n",
              "      <td>0.0</td>\n",
              "      <td>0.0</td>\n",
              "      <td>0.0</td>\n",
              "      <td>NaN</td>\n",
              "      <td>INDIVIDUAL</td>\n",
              "      <td>NaN</td>\n",
              "      <td>9th week</td>\n",
              "      <td>0.0</td>\n",
              "      <td>0.0</td>\n",
              "      <td>9974.0</td>\n",
              "      <td>32900.0</td>\n",
              "      <td>0</td>\n",
              "    </tr>\n",
              "    <tr>\n",
              "      <th>2</th>\n",
              "      <td>70255675</td>\n",
              "      <td>10000</td>\n",
              "      <td>10000</td>\n",
              "      <td>10000.0</td>\n",
              "      <td>36 months</td>\n",
              "      <td>BAT1586599</td>\n",
              "      <td>7.26</td>\n",
              "      <td>A</td>\n",
              "      <td>A4</td>\n",
              "      <td>Driver</td>\n",
              "      <td>2 years</td>\n",
              "      <td>OWN</td>\n",
              "      <td>45000.0</td>\n",
              "      <td>Not Verified</td>\n",
              "      <td>n</td>\n",
              "      <td>NaN</td>\n",
              "      <td>debt_consolidation</td>\n",
              "      <td>Debt consolidation</td>\n",
              "      <td>447xx</td>\n",
              "      <td>OH</td>\n",
              "      <td>18.42</td>\n",
              "      <td>0.0</td>\n",
              "      <td>0.0</td>\n",
              "      <td>NaN</td>\n",
              "      <td>NaN</td>\n",
              "      <td>5.0</td>\n",
              "      <td>0.0</td>\n",
              "      <td>10877.0</td>\n",
              "      <td>31.2</td>\n",
              "      <td>19.0</td>\n",
              "      <td>w</td>\n",
              "      <td>56.47</td>\n",
              "      <td>0.0</td>\n",
              "      <td>0.0</td>\n",
              "      <td>0.0</td>\n",
              "      <td>0.0</td>\n",
              "      <td>NaN</td>\n",
              "      <td>INDIVIDUAL</td>\n",
              "      <td>NaN</td>\n",
              "      <td>9th week</td>\n",
              "      <td>0.0</td>\n",
              "      <td>65.0</td>\n",
              "      <td>38295.0</td>\n",
              "      <td>34900.0</td>\n",
              "      <td>0</td>\n",
              "    </tr>\n",
              "    <tr>\n",
              "      <th>3</th>\n",
              "      <td>1893936</td>\n",
              "      <td>15000</td>\n",
              "      <td>15000</td>\n",
              "      <td>15000.0</td>\n",
              "      <td>36 months</td>\n",
              "      <td>BAT4808022</td>\n",
              "      <td>19.72</td>\n",
              "      <td>D</td>\n",
              "      <td>D5</td>\n",
              "      <td>Us office of Personnel Management</td>\n",
              "      <td>10+ years</td>\n",
              "      <td>RENT</td>\n",
              "      <td>105000.0</td>\n",
              "      <td>Not Verified</td>\n",
              "      <td>n</td>\n",
              "      <td>&gt; My goal is to obtain a loan to pay off my hi...</td>\n",
              "      <td>debt_consolidation</td>\n",
              "      <td>Debt consolidation</td>\n",
              "      <td>221xx</td>\n",
              "      <td>VA</td>\n",
              "      <td>14.97</td>\n",
              "      <td>0.0</td>\n",
              "      <td>2.0</td>\n",
              "      <td>46.0</td>\n",
              "      <td>NaN</td>\n",
              "      <td>10.0</td>\n",
              "      <td>0.0</td>\n",
              "      <td>13712.0</td>\n",
              "      <td>55.5</td>\n",
              "      <td>21.0</td>\n",
              "      <td>f</td>\n",
              "      <td>4858.62</td>\n",
              "      <td>0.0</td>\n",
              "      <td>0.0</td>\n",
              "      <td>0.0</td>\n",
              "      <td>0.0</td>\n",
              "      <td>NaN</td>\n",
              "      <td>INDIVIDUAL</td>\n",
              "      <td>NaN</td>\n",
              "      <td>135th week</td>\n",
              "      <td>0.0</td>\n",
              "      <td>0.0</td>\n",
              "      <td>55564.0</td>\n",
              "      <td>24700.0</td>\n",
              "      <td>0</td>\n",
              "    </tr>\n",
              "    <tr>\n",
              "      <th>4</th>\n",
              "      <td>7652106</td>\n",
              "      <td>16000</td>\n",
              "      <td>16000</td>\n",
              "      <td>16000.0</td>\n",
              "      <td>36 months</td>\n",
              "      <td>BAT2833642</td>\n",
              "      <td>10.64</td>\n",
              "      <td>B</td>\n",
              "      <td>B2</td>\n",
              "      <td>LAUSD-HOLLYWOOD HIGH SCHOOL</td>\n",
              "      <td>10+ years</td>\n",
              "      <td>RENT</td>\n",
              "      <td>52000.0</td>\n",
              "      <td>Verified</td>\n",
              "      <td>n</td>\n",
              "      <td>NaN</td>\n",
              "      <td>credit_card</td>\n",
              "      <td>refi</td>\n",
              "      <td>900xx</td>\n",
              "      <td>CA</td>\n",
              "      <td>20.16</td>\n",
              "      <td>0.0</td>\n",
              "      <td>0.0</td>\n",
              "      <td>NaN</td>\n",
              "      <td>NaN</td>\n",
              "      <td>11.0</td>\n",
              "      <td>0.0</td>\n",
              "      <td>35835.0</td>\n",
              "      <td>76.2</td>\n",
              "      <td>27.0</td>\n",
              "      <td>w</td>\n",
              "      <td>2296.41</td>\n",
              "      <td>0.0</td>\n",
              "      <td>0.0</td>\n",
              "      <td>0.0</td>\n",
              "      <td>0.0</td>\n",
              "      <td>NaN</td>\n",
              "      <td>INDIVIDUAL</td>\n",
              "      <td>NaN</td>\n",
              "      <td>96th week</td>\n",
              "      <td>0.0</td>\n",
              "      <td>0.0</td>\n",
              "      <td>47159.0</td>\n",
              "      <td>47033.0</td>\n",
              "      <td>0</td>\n",
              "    </tr>\n",
              "  </tbody>\n",
              "</table>\n",
              "</div>"
            ],
            "text/plain": [
              "   member_id  loan_amnt  ...  total_rev_hi_lim  loan_status\n",
              "0   58189336      14350  ...           30800.0            0\n",
              "1   70011223       4800  ...           32900.0            0\n",
              "2   70255675      10000  ...           34900.0            0\n",
              "3    1893936      15000  ...           24700.0            0\n",
              "4    7652106      16000  ...           47033.0            0\n",
              "\n",
              "[5 rows x 45 columns]"
            ]
          },
          "metadata": {
            "tags": []
          },
          "execution_count": 3
        }
      ]
    },
    {
      "cell_type": "code",
      "metadata": {
        "colab": {
          "base_uri": "https://localhost:8080/",
          "height": 325
        },
        "id": "4YYUhFdk21p-",
        "outputId": "32a32b59-b34a-4732-c075-06c82fbb745b"
      },
      "source": [
        "test_df.head()"
      ],
      "execution_count": 4,
      "outputs": [
        {
          "output_type": "execute_result",
          "data": {
            "text/html": [
              "<div>\n",
              "<style scoped>\n",
              "    .dataframe tbody tr th:only-of-type {\n",
              "        vertical-align: middle;\n",
              "    }\n",
              "\n",
              "    .dataframe tbody tr th {\n",
              "        vertical-align: top;\n",
              "    }\n",
              "\n",
              "    .dataframe thead th {\n",
              "        text-align: right;\n",
              "    }\n",
              "</style>\n",
              "<table border=\"1\" class=\"dataframe\">\n",
              "  <thead>\n",
              "    <tr style=\"text-align: right;\">\n",
              "      <th></th>\n",
              "      <th>member_id</th>\n",
              "      <th>loan_amnt</th>\n",
              "      <th>funded_amnt</th>\n",
              "      <th>funded_amnt_inv</th>\n",
              "      <th>term</th>\n",
              "      <th>batch_enrolled</th>\n",
              "      <th>int_rate</th>\n",
              "      <th>grade</th>\n",
              "      <th>sub_grade</th>\n",
              "      <th>emp_title</th>\n",
              "      <th>emp_length</th>\n",
              "      <th>home_ownership</th>\n",
              "      <th>annual_inc</th>\n",
              "      <th>verification_status</th>\n",
              "      <th>pymnt_plan</th>\n",
              "      <th>desc</th>\n",
              "      <th>purpose</th>\n",
              "      <th>title</th>\n",
              "      <th>zip_code</th>\n",
              "      <th>addr_state</th>\n",
              "      <th>dti</th>\n",
              "      <th>delinq_2yrs</th>\n",
              "      <th>inq_last_6mths</th>\n",
              "      <th>mths_since_last_delinq</th>\n",
              "      <th>mths_since_last_record</th>\n",
              "      <th>open_acc</th>\n",
              "      <th>pub_rec</th>\n",
              "      <th>revol_bal</th>\n",
              "      <th>revol_util</th>\n",
              "      <th>total_acc</th>\n",
              "      <th>initial_list_status</th>\n",
              "      <th>total_rec_int</th>\n",
              "      <th>total_rec_late_fee</th>\n",
              "      <th>recoveries</th>\n",
              "      <th>collection_recovery_fee</th>\n",
              "      <th>collections_12_mths_ex_med</th>\n",
              "      <th>mths_since_last_major_derog</th>\n",
              "      <th>application_type</th>\n",
              "      <th>verification_status_joint</th>\n",
              "      <th>last_week_pay</th>\n",
              "      <th>acc_now_delinq</th>\n",
              "      <th>tot_coll_amt</th>\n",
              "      <th>tot_cur_bal</th>\n",
              "      <th>total_rev_hi_lim</th>\n",
              "    </tr>\n",
              "  </thead>\n",
              "  <tbody>\n",
              "    <tr>\n",
              "      <th>0</th>\n",
              "      <td>11937648</td>\n",
              "      <td>14000</td>\n",
              "      <td>14000</td>\n",
              "      <td>14000.0</td>\n",
              "      <td>60 months</td>\n",
              "      <td>BAT4711174</td>\n",
              "      <td>16.24</td>\n",
              "      <td>C</td>\n",
              "      <td>C5</td>\n",
              "      <td>Data Analyst</td>\n",
              "      <td>4 years</td>\n",
              "      <td>RENT</td>\n",
              "      <td>73500.0</td>\n",
              "      <td>Source Verified</td>\n",
              "      <td>n</td>\n",
              "      <td>NaN</td>\n",
              "      <td>credit_card</td>\n",
              "      <td>wrap it up</td>\n",
              "      <td>450xx</td>\n",
              "      <td>OH</td>\n",
              "      <td>28.65</td>\n",
              "      <td>1.0</td>\n",
              "      <td>1.0</td>\n",
              "      <td>20.0</td>\n",
              "      <td>NaN</td>\n",
              "      <td>16.0</td>\n",
              "      <td>0.0</td>\n",
              "      <td>29828</td>\n",
              "      <td>65.3</td>\n",
              "      <td>53.0</td>\n",
              "      <td>f</td>\n",
              "      <td>3915.61</td>\n",
              "      <td>0.0</td>\n",
              "      <td>0.0</td>\n",
              "      <td>0.0</td>\n",
              "      <td>0.0</td>\n",
              "      <td>NaN</td>\n",
              "      <td>INDIVIDUAL</td>\n",
              "      <td>NaN</td>\n",
              "      <td>104th week</td>\n",
              "      <td>0.0</td>\n",
              "      <td>0.0</td>\n",
              "      <td>85230.0</td>\n",
              "      <td>45700.0</td>\n",
              "    </tr>\n",
              "    <tr>\n",
              "      <th>1</th>\n",
              "      <td>38983318</td>\n",
              "      <td>16000</td>\n",
              "      <td>16000</td>\n",
              "      <td>16000.0</td>\n",
              "      <td>60 months</td>\n",
              "      <td>BAT4318899</td>\n",
              "      <td>9.49</td>\n",
              "      <td>B</td>\n",
              "      <td>B2</td>\n",
              "      <td>Senior Database Administrator</td>\n",
              "      <td>5 years</td>\n",
              "      <td>MORTGAGE</td>\n",
              "      <td>105000.0</td>\n",
              "      <td>Source Verified</td>\n",
              "      <td>n</td>\n",
              "      <td>NaN</td>\n",
              "      <td>major_purchase</td>\n",
              "      <td>Major purchase</td>\n",
              "      <td>275xx</td>\n",
              "      <td>NC</td>\n",
              "      <td>31.19</td>\n",
              "      <td>0.0</td>\n",
              "      <td>0.0</td>\n",
              "      <td>NaN</td>\n",
              "      <td>NaN</td>\n",
              "      <td>8.0</td>\n",
              "      <td>0.0</td>\n",
              "      <td>4161</td>\n",
              "      <td>19.4</td>\n",
              "      <td>63.0</td>\n",
              "      <td>w</td>\n",
              "      <td>1495.06</td>\n",
              "      <td>0.0</td>\n",
              "      <td>0.0</td>\n",
              "      <td>0.0</td>\n",
              "      <td>0.0</td>\n",
              "      <td>NaN</td>\n",
              "      <td>INDIVIDUAL</td>\n",
              "      <td>NaN</td>\n",
              "      <td>57th week</td>\n",
              "      <td>0.0</td>\n",
              "      <td>0.0</td>\n",
              "      <td>444991.0</td>\n",
              "      <td>21400.0</td>\n",
              "    </tr>\n",
              "    <tr>\n",
              "      <th>2</th>\n",
              "      <td>27999917</td>\n",
              "      <td>11050</td>\n",
              "      <td>11050</td>\n",
              "      <td>11050.0</td>\n",
              "      <td>60 months</td>\n",
              "      <td>BAT446479</td>\n",
              "      <td>15.61</td>\n",
              "      <td>D</td>\n",
              "      <td>D1</td>\n",
              "      <td>Customer service representative</td>\n",
              "      <td>10+ years</td>\n",
              "      <td>RENT</td>\n",
              "      <td>62300.0</td>\n",
              "      <td>Not Verified</td>\n",
              "      <td>n</td>\n",
              "      <td>NaN</td>\n",
              "      <td>debt_consolidation</td>\n",
              "      <td>Debt consolidation</td>\n",
              "      <td>672xx</td>\n",
              "      <td>KS</td>\n",
              "      <td>21.73</td>\n",
              "      <td>1.0</td>\n",
              "      <td>0.0</td>\n",
              "      <td>23.0</td>\n",
              "      <td>115.0</td>\n",
              "      <td>11.0</td>\n",
              "      <td>1.0</td>\n",
              "      <td>12064</td>\n",
              "      <td>74.0</td>\n",
              "      <td>20.0</td>\n",
              "      <td>w</td>\n",
              "      <td>2096.21</td>\n",
              "      <td>0.0</td>\n",
              "      <td>0.0</td>\n",
              "      <td>0.0</td>\n",
              "      <td>0.0</td>\n",
              "      <td>26.0</td>\n",
              "      <td>INDIVIDUAL</td>\n",
              "      <td>NaN</td>\n",
              "      <td>70th week</td>\n",
              "      <td>0.0</td>\n",
              "      <td>0.0</td>\n",
              "      <td>105737.0</td>\n",
              "      <td>16300.0</td>\n",
              "    </tr>\n",
              "    <tr>\n",
              "      <th>3</th>\n",
              "      <td>61514932</td>\n",
              "      <td>35000</td>\n",
              "      <td>35000</td>\n",
              "      <td>34700.0</td>\n",
              "      <td>60 months</td>\n",
              "      <td>BAT4664105</td>\n",
              "      <td>12.69</td>\n",
              "      <td>C</td>\n",
              "      <td>C2</td>\n",
              "      <td>ACCT OFFICER</td>\n",
              "      <td>10+ years</td>\n",
              "      <td>OWN</td>\n",
              "      <td>150000.0</td>\n",
              "      <td>Source Verified</td>\n",
              "      <td>n</td>\n",
              "      <td>NaN</td>\n",
              "      <td>debt_consolidation</td>\n",
              "      <td>Debt consolidation</td>\n",
              "      <td>961xx</td>\n",
              "      <td>CA</td>\n",
              "      <td>17.27</td>\n",
              "      <td>0.0</td>\n",
              "      <td>0.0</td>\n",
              "      <td>NaN</td>\n",
              "      <td>NaN</td>\n",
              "      <td>21.0</td>\n",
              "      <td>0.0</td>\n",
              "      <td>32549</td>\n",
              "      <td>45.0</td>\n",
              "      <td>26.0</td>\n",
              "      <td>f</td>\n",
              "      <td>1756.31</td>\n",
              "      <td>0.0</td>\n",
              "      <td>0.0</td>\n",
              "      <td>0.0</td>\n",
              "      <td>0.0</td>\n",
              "      <td>NaN</td>\n",
              "      <td>INDIVIDUAL</td>\n",
              "      <td>NaN</td>\n",
              "      <td>22th week</td>\n",
              "      <td>0.0</td>\n",
              "      <td>0.0</td>\n",
              "      <td>287022.0</td>\n",
              "      <td>72400.0</td>\n",
              "    </tr>\n",
              "    <tr>\n",
              "      <th>4</th>\n",
              "      <td>59622821</td>\n",
              "      <td>6500</td>\n",
              "      <td>6500</td>\n",
              "      <td>6500.0</td>\n",
              "      <td>36 months</td>\n",
              "      <td></td>\n",
              "      <td>6.89</td>\n",
              "      <td>A</td>\n",
              "      <td>A3</td>\n",
              "      <td>Paralegal</td>\n",
              "      <td>5 years</td>\n",
              "      <td>MORTGAGE</td>\n",
              "      <td>52000.0</td>\n",
              "      <td>Not Verified</td>\n",
              "      <td>n</td>\n",
              "      <td>NaN</td>\n",
              "      <td>major_purchase</td>\n",
              "      <td>Major purchase</td>\n",
              "      <td>707xx</td>\n",
              "      <td>LA</td>\n",
              "      <td>20.19</td>\n",
              "      <td>0.0</td>\n",
              "      <td>0.0</td>\n",
              "      <td>NaN</td>\n",
              "      <td>NaN</td>\n",
              "      <td>16.0</td>\n",
              "      <td>0.0</td>\n",
              "      <td>5133</td>\n",
              "      <td>19.2</td>\n",
              "      <td>36.0</td>\n",
              "      <td>w</td>\n",
              "      <td>172.21</td>\n",
              "      <td>0.0</td>\n",
              "      <td>0.0</td>\n",
              "      <td>0.0</td>\n",
              "      <td>0.0</td>\n",
              "      <td>NaN</td>\n",
              "      <td>INDIVIDUAL</td>\n",
              "      <td>NaN</td>\n",
              "      <td>22th week</td>\n",
              "      <td>0.0</td>\n",
              "      <td>0.0</td>\n",
              "      <td>234278.0</td>\n",
              "      <td>26700.0</td>\n",
              "    </tr>\n",
              "  </tbody>\n",
              "</table>\n",
              "</div>"
            ],
            "text/plain": [
              "   member_id  loan_amnt  ...  tot_cur_bal  total_rev_hi_lim\n",
              "0   11937648      14000  ...      85230.0           45700.0\n",
              "1   38983318      16000  ...     444991.0           21400.0\n",
              "2   27999917      11050  ...     105737.0           16300.0\n",
              "3   61514932      35000  ...     287022.0           72400.0\n",
              "4   59622821       6500  ...     234278.0           26700.0\n",
              "\n",
              "[5 rows x 44 columns]"
            ]
          },
          "metadata": {
            "tags": []
          },
          "execution_count": 4
        }
      ]
    },
    {
      "cell_type": "code",
      "metadata": {
        "id": "-hMlnqfAPn-i"
      },
      "source": [
        "#Dropping member_id feature\n",
        "train_df.drop(['member_id'], axis=1, inplace=True)\n",
        "test_df.drop(['member_id'], axis=1, inplace=True)"
      ],
      "execution_count": 5,
      "outputs": []
    },
    {
      "cell_type": "code",
      "metadata": {
        "colab": {
          "base_uri": "https://localhost:8080/"
        },
        "id": "8IGf6wvLmb0U",
        "outputId": "0d6110bb-2650-4bfc-e55e-89148a2d0d51"
      },
      "source": [
        "print(train_df.shape)\n",
        "print(test_df.shape)"
      ],
      "execution_count": 6,
      "outputs": [
        {
          "output_type": "stream",
          "text": [
            "(532428, 44)\n",
            "(354951, 43)\n"
          ],
          "name": "stdout"
        }
      ]
    },
    {
      "cell_type": "code",
      "metadata": {
        "colab": {
          "base_uri": "https://localhost:8080/"
        },
        "id": "8PLT2Tpp4qNr",
        "outputId": "f63bdac0-dd27-4ad1-9ba7-1295bc324dd9"
      },
      "source": [
        "print(set(train_df.columns))\n",
        "print(set(test_df.columns))\n",
        "print(set(train_df.columns)-set(test_df.columns))"
      ],
      "execution_count": 7,
      "outputs": [
        {
          "output_type": "stream",
          "text": [
            "{'collections_12_mths_ex_med', 'loan_amnt', 'mths_since_last_major_derog', 'zip_code', 'mths_since_last_record', 'addr_state', 'initial_list_status', 'verification_status', 'emp_length', 'pymnt_plan', 'collection_recovery_fee', 'mths_since_last_delinq', 'pub_rec', 'application_type', 'revol_bal', 'revol_util', 'verification_status_joint', 'funded_amnt_inv', 'sub_grade', 'term', 'total_rec_late_fee', 'tot_cur_bal', 'desc', 'int_rate', 'loan_status', 'inq_last_6mths', 'grade', 'total_acc', 'dti', 'home_ownership', 'total_rec_int', 'acc_now_delinq', 'annual_inc', 'tot_coll_amt', 'recoveries', 'emp_title', 'total_rev_hi_lim', 'funded_amnt', 'title', 'batch_enrolled', 'last_week_pay', 'delinq_2yrs', 'purpose', 'open_acc'}\n",
            "{'collections_12_mths_ex_med', 'loan_amnt', 'mths_since_last_major_derog', 'zip_code', 'mths_since_last_record', 'addr_state', 'initial_list_status', 'verification_status', 'emp_length', 'pymnt_plan', 'collection_recovery_fee', 'mths_since_last_delinq', 'pub_rec', 'application_type', 'revol_bal', 'revol_util', 'verification_status_joint', 'funded_amnt_inv', 'sub_grade', 'term', 'total_rec_late_fee', 'tot_cur_bal', 'desc', 'int_rate', 'inq_last_6mths', 'grade', 'total_acc', 'dti', 'home_ownership', 'total_rec_int', 'acc_now_delinq', 'annual_inc', 'tot_coll_amt', 'recoveries', 'emp_title', 'total_rev_hi_lim', 'funded_amnt', 'title', 'batch_enrolled', 'last_week_pay', 'delinq_2yrs', 'purpose', 'open_acc'}\n",
            "{'loan_status'}\n"
          ],
          "name": "stdout"
        }
      ]
    },
    {
      "cell_type": "code",
      "metadata": {
        "colab": {
          "base_uri": "https://localhost:8080/"
        },
        "id": "cFIKZWc-uX-4",
        "outputId": "029f8fe9-f22d-4608-d21d-ed7c2fcf4ec4"
      },
      "source": [
        "print(train_df.info())"
      ],
      "execution_count": 8,
      "outputs": [
        {
          "output_type": "stream",
          "text": [
            "<class 'pandas.core.frame.DataFrame'>\n",
            "RangeIndex: 532428 entries, 0 to 532427\n",
            "Data columns (total 44 columns):\n",
            " #   Column                       Non-Null Count   Dtype  \n",
            "---  ------                       --------------   -----  \n",
            " 0   loan_amnt                    532428 non-null  int64  \n",
            " 1   funded_amnt                  532428 non-null  int64  \n",
            " 2   funded_amnt_inv              532428 non-null  float64\n",
            " 3   term                         532428 non-null  object \n",
            " 4   batch_enrolled               447279 non-null  object \n",
            " 5   int_rate                     532428 non-null  float64\n",
            " 6   grade                        532428 non-null  object \n",
            " 7   sub_grade                    532428 non-null  object \n",
            " 8   emp_title                    501595 non-null  object \n",
            " 9   emp_length                   505537 non-null  object \n",
            " 10  home_ownership               532428 non-null  object \n",
            " 11  annual_inc                   532425 non-null  float64\n",
            " 12  verification_status          532428 non-null  object \n",
            " 13  pymnt_plan                   532428 non-null  object \n",
            " 14  desc                         75599 non-null   object \n",
            " 15  purpose                      532428 non-null  object \n",
            " 16  title                        532338 non-null  object \n",
            " 17  zip_code                     532428 non-null  object \n",
            " 18  addr_state                   532428 non-null  object \n",
            " 19  dti                          532428 non-null  float64\n",
            " 20  delinq_2yrs                  532412 non-null  float64\n",
            " 21  inq_last_6mths               532412 non-null  float64\n",
            " 22  mths_since_last_delinq       259874 non-null  float64\n",
            " 23  mths_since_last_record       82123 non-null   float64\n",
            " 24  open_acc                     532412 non-null  float64\n",
            " 25  pub_rec                      532412 non-null  float64\n",
            " 26  revol_bal                    532428 non-null  float64\n",
            " 27  revol_util                   532141 non-null  float64\n",
            " 28  total_acc                    532412 non-null  float64\n",
            " 29  initial_list_status          532428 non-null  object \n",
            " 30  total_rec_int                532428 non-null  float64\n",
            " 31  total_rec_late_fee           532428 non-null  float64\n",
            " 32  recoveries                   532428 non-null  float64\n",
            " 33  collection_recovery_fee      532428 non-null  float64\n",
            " 34  collections_12_mths_ex_med   532333 non-null  float64\n",
            " 35  mths_since_last_major_derog  132980 non-null  float64\n",
            " 36  application_type             532428 non-null  object \n",
            " 37  verification_status_joint    305 non-null     object \n",
            " 38  last_week_pay                532428 non-null  object \n",
            " 39  acc_now_delinq               532412 non-null  float64\n",
            " 40  tot_coll_amt                 490424 non-null  float64\n",
            " 41  tot_cur_bal                  490424 non-null  float64\n",
            " 42  total_rev_hi_lim             490424 non-null  float64\n",
            " 43  loan_status                  532428 non-null  int64  \n",
            "dtypes: float64(23), int64(3), object(18)\n",
            "memory usage: 178.7+ MB\n",
            "None\n"
          ],
          "name": "stdout"
        }
      ]
    },
    {
      "cell_type": "code",
      "metadata": {
        "colab": {
          "base_uri": "https://localhost:8080/"
        },
        "id": "ab8TZbzM9go1",
        "outputId": "82c81bd3-33ce-4a4d-b4bf-0135b4d8cf09"
      },
      "source": [
        "for column in train_df.columns:\n",
        "  print(column)\n",
        "  print(train_df[column].value_counts())\n",
        "  print(\"******************************\")"
      ],
      "execution_count": 9,
      "outputs": [
        {
          "output_type": "stream",
          "text": [
            "loan_amnt\n",
            "10000    37175\n",
            "12000    30126\n",
            "15000    28420\n",
            "20000    28196\n",
            "35000    21728\n",
            "         ...  \n",
            "925          1\n",
            "32050        1\n",
            "34600        1\n",
            "900          1\n",
            "725          1\n",
            "Name: loan_amnt, Length: 1370, dtype: int64\n",
            "******************************\n",
            "funded_amnt\n",
            "10000    37118\n",
            "12000    30069\n",
            "15000    28345\n",
            "20000    28085\n",
            "35000    21650\n",
            "         ...  \n",
            "900          1\n",
            "32050        1\n",
            "34600        1\n",
            "725          1\n",
            "750          1\n",
            "Name: funded_amnt, Length: 1370, dtype: int64\n",
            "******************************\n",
            "funded_amnt_inv\n",
            "10000.000000    33676\n",
            "12000.000000    26981\n",
            "15000.000000    25025\n",
            "20000.000000    24198\n",
            "35000.000000    17671\n",
            "                ...  \n",
            "13470.755149        1\n",
            "3651.255581         1\n",
            "7093.836559         1\n",
            "19550.020606        1\n",
            "684.135130          1\n",
            "Name: funded_amnt_inv, Length: 6442, dtype: int64\n",
            "******************************\n",
            "term\n",
            "36 months    372793\n",
            "60 months    159635\n",
            "Name: term, dtype: int64\n",
            "******************************\n",
            "batch_enrolled\n",
            "              106079\n",
            "BAT2252229     18791\n",
            "BAT3873588     17839\n",
            "BAT2803411     17111\n",
            "BAT2078974     14859\n",
            "               ...  \n",
            "BAT4347689        30\n",
            "BAT4884699        29\n",
            "BAT5869156        26\n",
            "BAT5077496        18\n",
            "BAT2331079        13\n",
            "Name: batch_enrolled, Length: 104, dtype: int64\n",
            "******************************\n",
            "int_rate\n",
            "10.99    20609\n",
            "9.17     15436\n",
            "15.61    15207\n",
            "9.99     13054\n",
            "7.89     12219\n",
            "         ...  \n",
            "17.46        1\n",
            "14.57        1\n",
            "20.69        1\n",
            "16.33        1\n",
            "17.91        1\n",
            "Name: int_rate, Length: 535, dtype: int64\n",
            "******************************\n",
            "grade\n",
            "B    152713\n",
            "C    147499\n",
            "A     89107\n",
            "D     83567\n",
            "E     42495\n",
            "F     13826\n",
            "G      3221\n",
            "Name: grade, dtype: int64\n",
            "******************************\n",
            "sub_grade\n",
            "B3    33844\n",
            "B4    33198\n",
            "C1    31975\n",
            "C2    31356\n",
            "C3    30080\n",
            "B2    29390\n",
            "B5    29313\n",
            "C4    29103\n",
            "A5    27016\n",
            "B1    26968\n",
            "C5    24985\n",
            "D1    21712\n",
            "A4    20823\n",
            "D2    17991\n",
            "D3    15771\n",
            "D4    15226\n",
            "A3    14082\n",
            "A1    13653\n",
            "A2    13533\n",
            "D5    12867\n",
            "E1    10928\n",
            "E2    10255\n",
            "E3     8488\n",
            "E4     7051\n",
            "E5     5773\n",
            "F1     4350\n",
            "F2     3196\n",
            "F3     2708\n",
            "F4     2056\n",
            "F5     1516\n",
            "G1     1112\n",
            "G2      824\n",
            "G3      559\n",
            "G4      391\n",
            "G5      335\n",
            "Name: sub_grade, dtype: int64\n",
            "******************************\n",
            "emp_title\n",
            "Teacher                               8280\n",
            "Manager                               6922\n",
            "Registered Nurse                      3387\n",
            "Owner                                 3305\n",
            "RN                                    3255\n",
            "                                      ... \n",
            "physicians                               1\n",
            "Logisitic Coordinator                    1\n",
            "Creole Cuisine concepts                  1\n",
            "C.Blackburn inc                          1\n",
            "Managed Health Care Associates inc       1\n",
            "Name: emp_title, Length: 190124, dtype: int64\n",
            "******************************\n",
            "emp_length\n",
            "10+ years    175105\n",
            "2 years       47276\n",
            "< 1 year      42253\n",
            "3 years       42175\n",
            "1 year        34202\n",
            "5 years       33393\n",
            "4 years       31581\n",
            "7 years       26680\n",
            "8 years       26443\n",
            "6 years       25741\n",
            "9 years       20688\n",
            "Name: emp_length, dtype: int64\n",
            "******************************\n",
            "home_ownership\n",
            "MORTGAGE    265940\n",
            "RENT        213668\n",
            "OWN          52664\n",
            "OTHER          117\n",
            "NONE            36\n",
            "ANY              3\n",
            "Name: home_ownership, dtype: int64\n",
            "******************************\n",
            "annual_inc\n",
            "60000.00    20558\n",
            "50000.00    18363\n",
            "65000.00    15420\n",
            "70000.00    14493\n",
            "40000.00    14352\n",
            "            ...  \n",
            "77871.00        1\n",
            "77875.00        1\n",
            "77877.00        1\n",
            "77882.00        1\n",
            "95000.16        1\n",
            "Name: annual_inc, Length: 33988, dtype: int64\n",
            "******************************\n",
            "verification_status\n",
            "Source Verified    197750\n",
            "Verified           174702\n",
            "Not Verified       159976\n",
            "Name: verification_status, dtype: int64\n",
            "******************************\n",
            "pymnt_plan\n",
            "n    532420\n",
            "y         8\n",
            "Name: pymnt_plan, dtype: int64\n",
            "******************************\n",
            "desc\n",
            "> Debt consolidation<br>                                                                                                                                                                                                                                                                                                576\n",
            "> Debt Consolidation<br>                                                                                                                                                                                                                                                                                                372\n",
            "> debt consolidation<br>                                                                                                                                                                                                                                                                                                347\n",
            "> Debt consolidation.<br>                                                                                                                                                                                                                                                                                               131\n",
            "> Pay off credit cards<br>                                                                                                                                                                                                                                                                                              122\n",
            "                                                                                                                                                                                                                                                                                                                       ... \n",
            "> Medical Expense for wife<br/>                                                                                                                                                                                                                                                                                           1\n",
            "   > My father, whom I'd been staying with/taking care of passed away in March. I'm trying to consolidate debt into a lower interest rate to free up money so I can hopefully buy the house that Nikki (his dog) and I have been staying in these past 3 years. I inherited 1/4 interest in the house, Thank You<br>      1\n",
            "> This loan is for hard floors on the upper level of my primary home and a garage.<br><br>   > Along with adding hardwood floors and a garage.  I will pay off my car loan and part of another bill.<br>                                                                                                                  1\n",
            "> Have two credit cards that I am making payments on that have had high balances for a long time. Trying to improve my credit score by consolidating my debt in an effort to buy a house soon.<br>                                                                                                                        1\n",
            "> Debt consolidation and home improvement project.<br>                                                                                                                                                                                                                                                                    1\n",
            "Name: desc, Length: 70638, dtype: int64\n",
            "******************************\n",
            "purpose\n",
            "debt_consolidation    314989\n",
            "credit_card           123670\n",
            "home_improvement       31087\n",
            "other                  25652\n",
            "major_purchase         10284\n",
            "small_business          6146\n",
            "car                     5266\n",
            "medical                 5117\n",
            "moving                  3243\n",
            "vacation                2812\n",
            "house                   2170\n",
            "wedding                 1401\n",
            "renewable_energy         331\n",
            "educational              260\n",
            "Name: purpose, dtype: int64\n",
            "******************************\n",
            "title\n",
            "Debt consolidation         248967\n",
            "Credit card refinancing     98582\n",
            "Home improvement            24057\n",
            "Other                       19053\n",
            "Debt Consolidation           9932\n",
            "                            ...  \n",
            "Care's Loan                     1\n",
            "Gun Investment                  1\n",
            "Wedding Ring Purchase           1\n",
            "over the moon                   1\n",
            "debt payoff/vacation            1\n",
            "Name: title, Length: 39693, dtype: int64\n",
            "******************************\n",
            "zip_code\n",
            "945xx    5845\n",
            "750xx    5680\n",
            "112xx    5632\n",
            "606xx    5176\n",
            "300xx    4757\n",
            "         ... \n",
            "343xx       1\n",
            "522xx       1\n",
            "514xx       1\n",
            "837xx       1\n",
            "205xx       1\n",
            "Name: zip_code, Length: 917, dtype: int64\n",
            "******************************\n",
            "addr_state\n",
            "CA    77911\n",
            "NY    44406\n",
            "TX    42527\n",
            "FL    36575\n",
            "IL    21205\n",
            "NJ    20103\n",
            "PA    18882\n",
            "OH    17778\n",
            "GA    17292\n",
            "VA    15826\n",
            "NC    14812\n",
            "MI    13869\n",
            "MD    12667\n",
            "MA    12385\n",
            "AZ    12320\n",
            "WA    11664\n",
            "CO    11233\n",
            "MN     9577\n",
            "MO     8538\n",
            "IN     8197\n",
            "CT     8075\n",
            "TN     7817\n",
            "NV     7408\n",
            "WI     6880\n",
            "AL     6699\n",
            "OR     6549\n",
            "SC     6331\n",
            "LA     6304\n",
            "KY     5140\n",
            "KS     4818\n",
            "OK     4797\n",
            "AR     3988\n",
            "UT     3829\n",
            "NM     2958\n",
            "HI     2705\n",
            "WV     2615\n",
            "NH     2568\n",
            "RI     2322\n",
            "MS     2296\n",
            "MT     1545\n",
            "DE     1512\n",
            "DC     1477\n",
            "AK     1346\n",
            "WY     1198\n",
            "SD     1091\n",
            "VT     1062\n",
            "NE      709\n",
            "ME      324\n",
            "ND      284\n",
            "IA        7\n",
            "ID        7\n",
            "Name: addr_state, dtype: int64\n",
            "******************************\n",
            "dti\n",
            "14.40     410\n",
            "19.20     399\n",
            "18.00     390\n",
            "16.80     385\n",
            "15.60     380\n",
            "         ... \n",
            "104.00      1\n",
            "54.43       1\n",
            "55.06       1\n",
            "44.43       1\n",
            "137.40      1\n",
            "Name: dti, Length: 4058, dtype: int64\n",
            "******************************\n",
            "delinq_2yrs\n",
            "0.0     430104\n",
            "1.0      67947\n",
            "2.0      20167\n",
            "3.0       7269\n",
            "4.0       3159\n",
            "5.0       1622\n",
            "6.0        898\n",
            "7.0        451\n",
            "8.0        266\n",
            "9.0        166\n",
            "10.0       116\n",
            "11.0        73\n",
            "12.0        61\n",
            "13.0        37\n",
            "14.0        28\n",
            "15.0        14\n",
            "16.0         9\n",
            "18.0         8\n",
            "17.0         6\n",
            "19.0         4\n",
            "21.0         2\n",
            "30.0         1\n",
            "22.0         1\n",
            "26.0         1\n",
            "27.0         1\n",
            "24.0         1\n",
            "Name: delinq_2yrs, dtype: int64\n",
            "******************************\n",
            "inq_last_6mths\n",
            "0.0     298854\n",
            "1.0     144735\n",
            "2.0      56369\n",
            "3.0      22548\n",
            "4.0       6533\n",
            "5.0       2397\n",
            "6.0        720\n",
            "7.0         99\n",
            "8.0         79\n",
            "9.0         26\n",
            "10.0        15\n",
            "11.0         9\n",
            "12.0         8\n",
            "15.0         6\n",
            "14.0         3\n",
            "18.0         2\n",
            "16.0         2\n",
            "24.0         2\n",
            "13.0         1\n",
            "31.0         1\n",
            "17.0         1\n",
            "28.0         1\n",
            "20.0         1\n",
            "Name: inq_last_6mths, dtype: int64\n",
            "******************************\n",
            "mths_since_last_delinq\n",
            "9.0      5163\n",
            "6.0      5125\n",
            "12.0     5037\n",
            "7.0      5032\n",
            "13.0     5017\n",
            "         ... \n",
            "146.0       1\n",
            "176.0       1\n",
            "151.0       1\n",
            "119.0       1\n",
            "123.0       1\n",
            "Name: mths_since_last_delinq, Length: 147, dtype: int64\n",
            "******************************\n",
            "mths_since_last_record\n",
            "61.0     1180\n",
            "68.0     1166\n",
            "62.0     1157\n",
            "69.0     1156\n",
            "67.0     1156\n",
            "         ... \n",
            "3.0        71\n",
            "1.0        45\n",
            "2.0        36\n",
            "120.0       8\n",
            "121.0       2\n",
            "Name: mths_since_last_record, Length: 122, dtype: int64\n",
            "******************************\n",
            "open_acc\n",
            "9.0     48345\n",
            "10.0    47212\n",
            "8.0     46065\n",
            "11.0    43384\n",
            "7.0     40501\n",
            "        ...  \n",
            "70.0        1\n",
            "56.0        1\n",
            "82.0        1\n",
            "75.0        1\n",
            "68.0        1\n",
            "Name: open_acc, Length: 73, dtype: int64\n",
            "******************************\n",
            "pub_rec\n",
            "0.0     451040\n",
            "1.0      67938\n",
            "2.0       8841\n",
            "3.0       2692\n",
            "4.0        974\n",
            "5.0        424\n",
            "6.0        238\n",
            "7.0         97\n",
            "8.0         67\n",
            "9.0         23\n",
            "10.0        23\n",
            "11.0        16\n",
            "12.0        12\n",
            "13.0         7\n",
            "21.0         4\n",
            "16.0         3\n",
            "15.0         2\n",
            "20.0         1\n",
            "40.0         1\n",
            "14.0         1\n",
            "86.0         1\n",
            "49.0         1\n",
            "63.0         1\n",
            "22.0         1\n",
            "17.0         1\n",
            "28.0         1\n",
            "18.0         1\n",
            "23.0         1\n",
            "Name: pub_rec, dtype: int64\n",
            "******************************\n",
            "revol_bal\n",
            "0.0         2017\n",
            "5235.0        52\n",
            "5399.0        46\n",
            "5466.0        45\n",
            "5853.0        45\n",
            "            ... \n",
            "52642.0        1\n",
            "54096.0        1\n",
            "52645.0        1\n",
            "210583.0       1\n",
            "63167.0        1\n",
            "Name: revol_bal, Length: 63459, dtype: int64\n",
            "******************************\n",
            "revol_util\n",
            "0.00      2137\n",
            "53.00     1124\n",
            "58.00     1082\n",
            "52.00     1054\n",
            "62.00     1047\n",
            "          ... \n",
            "5.79         1\n",
            "128.10       1\n",
            "127.40       1\n",
            "141.80       1\n",
            "17.78        1\n",
            "Name: revol_util, Length: 1265, dtype: int64\n",
            "******************************\n",
            "total_acc\n",
            "20.0     19338\n",
            "22.0     19266\n",
            "21.0     19099\n",
            "19.0     19056\n",
            "18.0     18738\n",
            "         ...  \n",
            "117.0        1\n",
            "114.0        1\n",
            "103.0        1\n",
            "106.0        1\n",
            "127.0        1\n",
            "Name: total_acc, Length: 126, dtype: int64\n",
            "******************************\n",
            "initial_list_status\n",
            "f    274018\n",
            "w    258410\n",
            "Name: initial_list_status, dtype: int64\n",
            "******************************\n",
            "total_rec_int\n",
            "0.00       10953\n",
            "82.76         86\n",
            "174.90        78\n",
            "283.29        77\n",
            "319.41        76\n",
            "           ...  \n",
            "3006.05        1\n",
            "2977.95        1\n",
            "5891.73        1\n",
            "1437.97        1\n",
            "30.51          1\n",
            "Name: total_rec_int, Length: 243149, dtype: int64\n",
            "******************************\n",
            "total_rec_late_fee\n",
            "0.000000     524986\n",
            "15.000000      1680\n",
            "30.000000       219\n",
            "45.000000        31\n",
            "18.870000        10\n",
            "              ...  \n",
            "25.510000         1\n",
            "99.605323         1\n",
            "17.016502         1\n",
            "30.259503         1\n",
            "26.550000         1\n",
            "Name: total_rec_late_fee, Length: 4073, dtype: int64\n",
            "******************************\n",
            "recoveries\n",
            "0.00       517723\n",
            "200.00          7\n",
            "11.70           6\n",
            "10.08           5\n",
            "3000.00         5\n",
            "            ...  \n",
            "2257.85         1\n",
            "1389.92         1\n",
            "1504.34         1\n",
            "639.28          1\n",
            "2295.24         1\n",
            "Name: recoveries, Length: 14024, dtype: int64\n",
            "******************************\n",
            "collection_recovery_fee\n",
            "0.0000      518423\n",
            "2.0000          13\n",
            "2.7300          10\n",
            "3.0900           9\n",
            "1.8000           9\n",
            "             ...  \n",
            "145.4300         1\n",
            "11.9012          1\n",
            "409.4734         1\n",
            "686.2878         1\n",
            "79.1100          1\n",
            "Name: collection_recovery_fee, Length: 12617, dtype: int64\n",
            "******************************\n",
            "collections_12_mths_ex_med\n",
            "0.0     525346\n",
            "1.0       6494\n",
            "2.0        416\n",
            "3.0         53\n",
            "4.0         15\n",
            "5.0          6\n",
            "7.0          1\n",
            "16.0         1\n",
            "14.0         1\n",
            "Name: collections_12_mths_ex_med, dtype: int64\n",
            "******************************\n",
            "mths_since_last_major_derog\n",
            "45.0     2104\n",
            "46.0     2092\n",
            "42.0     2062\n",
            "43.0     2042\n",
            "37.0     2015\n",
            "         ... \n",
            "176.0       1\n",
            "180.0       1\n",
            "162.0       1\n",
            "171.0       1\n",
            "165.0       1\n",
            "Name: mths_since_last_major_derog, Length: 162, dtype: int64\n",
            "******************************\n",
            "application_type\n",
            "INDIVIDUAL    532123\n",
            "JOINT            305\n",
            "Name: application_type, dtype: int64\n",
            "******************************\n",
            "verification_status_joint\n",
            "Not Verified       170\n",
            "Verified           102\n",
            "Source Verified     33\n",
            "Name: verification_status_joint, dtype: int64\n",
            "******************************\n",
            "last_week_pay\n",
            "13th week     30333\n",
            "9th week      28626\n",
            "26th week     27475\n",
            "22th week     26000\n",
            "4th week      25704\n",
            "              ...  \n",
            "269th week        1\n",
            "274th week        1\n",
            "300th week        1\n",
            "278th week        1\n",
            "283th week        1\n",
            "Name: last_week_pay, Length: 98, dtype: int64\n",
            "******************************\n",
            "acc_now_delinq\n",
            "0.0     529949\n",
            "1.0       2304\n",
            "2.0        134\n",
            "3.0         16\n",
            "4.0          5\n",
            "5.0          2\n",
            "6.0          1\n",
            "14.0         1\n",
            "Name: acc_now_delinq, dtype: int64\n",
            "******************************\n",
            "tot_coll_amt\n",
            "0.0        420903\n",
            "50.0         1053\n",
            "100.0         815\n",
            "75.0          631\n",
            "150.0         418\n",
            "            ...  \n",
            "4564.0          1\n",
            "10764.0         1\n",
            "13527.0         1\n",
            "5527.0          1\n",
            "16332.0         1\n",
            "Name: tot_coll_amt, Length: 8081, dtype: int64\n",
            "******************************\n",
            "tot_cur_bal\n",
            "0.0         78\n",
            "14511.0     17\n",
            "19998.0     15\n",
            "27316.0     15\n",
            "5537.0      15\n",
            "            ..\n",
            "74511.0      1\n",
            "298043.0     1\n",
            "74510.0      1\n",
            "74509.0      1\n",
            "262519.0     1\n",
            "Name: tot_cur_bal, Length: 251640, dtype: int64\n",
            "******************************\n",
            "total_rev_hi_lim\n",
            "13500.0     1585\n",
            "14500.0     1576\n",
            "10000.0     1569\n",
            "12000.0     1564\n",
            "15000.0     1557\n",
            "            ... \n",
            "76454.0        1\n",
            "9725.0         1\n",
            "305800.0       1\n",
            "19111.0        1\n",
            "16163.0        1\n",
            "Name: total_rev_hi_lim, Length: 14697, dtype: int64\n",
            "******************************\n",
            "loan_status\n",
            "0    406601\n",
            "1    125827\n",
            "Name: loan_status, dtype: int64\n",
            "******************************\n"
          ],
          "name": "stdout"
        }
      ]
    },
    {
      "cell_type": "code",
      "metadata": {
        "colab": {
          "base_uri": "https://localhost:8080/",
          "height": 348
        },
        "id": "Y2f2qbIZVAFJ",
        "outputId": "36a0b92e-b062-4b6a-b7bd-52e70b09d697"
      },
      "source": [
        "sns.countplot(train_df.loan_status)"
      ],
      "execution_count": 10,
      "outputs": [
        {
          "output_type": "stream",
          "text": [
            "/usr/local/lib/python3.7/dist-packages/seaborn/_decorators.py:43: FutureWarning: Pass the following variable as a keyword arg: x. From version 0.12, the only valid positional argument will be `data`, and passing other arguments without an explicit keyword will result in an error or misinterpretation.\n",
            "  FutureWarning\n"
          ],
          "name": "stderr"
        },
        {
          "output_type": "execute_result",
          "data": {
            "text/plain": [
              "<matplotlib.axes._subplots.AxesSubplot at 0x7f9ce64b4790>"
            ]
          },
          "metadata": {
            "tags": []
          },
          "execution_count": 10
        },
        {
          "output_type": "display_data",
          "data": {
            "image/png": "[encoded data removed]",
            "text/plain": [
              "<Figure size 432x288 with 1 Axes>"
            ]
          },
          "metadata": {
            "tags": [],
            "needs_background": "light"
          }
        }
      ]
    },
    {
      "cell_type": "markdown",
      "metadata": {
        "id": "SURSxhri2p5G"
      },
      "source": [
        "There's imbalance in dataset which we will handle later\n"
      ]
    },
    {
      "cell_type": "code",
      "metadata": {
        "colab": {
          "base_uri": "https://localhost:8080/",
          "height": 857
        },
        "id": "FH03Yb73VACx",
        "outputId": "4721b83e-3305-4b41-ca15-bdcffc8af85a"
      },
      "source": [
        "plt.figure(figsize=(20, 12))\n",
        "sns.heatmap(train_df.corr(), annot=True, cmap='viridis')"
      ],
      "execution_count": 11,
      "outputs": [
        {
          "output_type": "execute_result",
          "data": {
            "text/plain": [
              "<matplotlib.axes._subplots.AxesSubplot at 0x7f9ce647cbd0>"
            ]
          },
          "metadata": {
            "tags": []
          },
          "execution_count": 11
        },
        {
          "output_type": "display_data",
          "data": {
            "image/png": "[encoded data removed]",
            "text/plain": [
              "<Figure size 1440x864 with 2 Axes>"
            ]
          },
          "metadata": {
            "tags": [],
            "needs_background": "light"
          }
        }
      ]
    },
    {
      "cell_type": "code",
      "metadata": {
        "colab": {
          "base_uri": "https://localhost:8080/",
          "height": 133
        },
        "id": "k4rx7rvnVABG",
        "outputId": "471e5b82-baa5-4e49-bf2b-f074c3e57569"
      },
      "source": [
        "train_df.groupby(by='loan_status')['loan_amnt'].describe()"
      ],
      "execution_count": 12,
      "outputs": [
        {
          "output_type": "execute_result",
          "data": {
            "text/html": [
              "<div>\n",
              "<style scoped>\n",
              "    .dataframe tbody tr th:only-of-type {\n",
              "        vertical-align: middle;\n",
              "    }\n",
              "\n",
              "    .dataframe tbody tr th {\n",
              "        vertical-align: top;\n",
              "    }\n",
              "\n",
              "    .dataframe thead th {\n",
              "        text-align: right;\n",
              "    }\n",
              "</style>\n",
              "<table border=\"1\" class=\"dataframe\">\n",
              "  <thead>\n",
              "    <tr style=\"text-align: right;\">\n",
              "      <th></th>\n",
              "      <th>count</th>\n",
              "      <th>mean</th>\n",
              "      <th>std</th>\n",
              "      <th>min</th>\n",
              "      <th>25%</th>\n",
              "      <th>50%</th>\n",
              "      <th>75%</th>\n",
              "      <th>max</th>\n",
              "    </tr>\n",
              "    <tr>\n",
              "      <th>loan_status</th>\n",
              "      <th></th>\n",
              "      <th></th>\n",
              "      <th></th>\n",
              "      <th></th>\n",
              "      <th></th>\n",
              "      <th></th>\n",
              "      <th></th>\n",
              "      <th></th>\n",
              "    </tr>\n",
              "  </thead>\n",
              "  <tbody>\n",
              "    <tr>\n",
              "      <th>0</th>\n",
              "      <td>406601.0</td>\n",
              "      <td>15206.679337</td>\n",
              "      <td>8499.937514</td>\n",
              "      <td>500.0</td>\n",
              "      <td>8700.0</td>\n",
              "      <td>14000.0</td>\n",
              "      <td>20000.0</td>\n",
              "      <td>35000.0</td>\n",
              "    </tr>\n",
              "    <tr>\n",
              "      <th>1</th>\n",
              "      <td>125827.0</td>\n",
              "      <td>13306.413965</td>\n",
              "      <td>8049.663290</td>\n",
              "      <td>500.0</td>\n",
              "      <td>7125.0</td>\n",
              "      <td>12000.0</td>\n",
              "      <td>18000.0</td>\n",
              "      <td>35000.0</td>\n",
              "    </tr>\n",
              "  </tbody>\n",
              "</table>\n",
              "</div>"
            ],
            "text/plain": [
              "                count          mean          std  ...      50%      75%      max\n",
              "loan_status                                       ...                           \n",
              "0            406601.0  15206.679337  8499.937514  ...  14000.0  20000.0  35000.0\n",
              "1            125827.0  13306.413965  8049.663290  ...  12000.0  18000.0  35000.0\n",
              "\n",
              "[2 rows x 8 columns]"
            ]
          },
          "metadata": {
            "tags": []
          },
          "execution_count": 12
        }
      ]
    },
    {
      "cell_type": "markdown",
      "metadata": {
        "id": "G6YJuhMI7QIx"
      },
      "source": [
        "**Grade**"
      ]
    },
    {
      "cell_type": "code",
      "metadata": {
        "colab": {
          "base_uri": "https://localhost:8080/",
          "height": 883
        },
        "id": "nMOcOGE6U_-j",
        "outputId": "17b61e5c-a309-4e16-8246-e43f46a672a8"
      },
      "source": [
        "plt.figure(figsize=(15, 10))\n",
        "\n",
        "plt.subplot(2, 2, 1)\n",
        "grade = sorted(train_df.grade.unique().tolist())\n",
        "sns.countplot(x='grade', data=train_df, hue='loan_status', order=grade)\n",
        "\n",
        "plt.subplot(2, 2, 2)\n",
        "sub_grade = sorted(train_df.sub_grade.unique().tolist())\n",
        "g = sns.countplot(x='sub_grade', data=train_df, hue='loan_status', order=sub_grade)\n",
        "g.set_xticklabels(g.get_xticklabels(), rotation=90)"
      ],
      "execution_count": 13,
      "outputs": [
        {
          "output_type": "execute_result",
          "data": {
            "text/plain": [
              "[Text(0, 0, 'A1'),\n",
              " Text(0, 0, 'A2'),\n",
              " Text(0, 0, 'A3'),\n",
              " Text(0, 0, 'A4'),\n",
              " Text(0, 0, 'A5'),\n",
              " Text(0, 0, 'B1'),\n",
              " Text(0, 0, 'B2'),\n",
              " Text(0, 0, 'B3'),\n",
              " Text(0, 0, 'B4'),\n",
              " Text(0, 0, 'B5'),\n",
              " Text(0, 0, 'C1'),\n",
              " Text(0, 0, 'C2'),\n",
              " Text(0, 0, 'C3'),\n",
              " Text(0, 0, 'C4'),\n",
              " Text(0, 0, 'C5'),\n",
              " Text(0, 0, 'D1'),\n",
              " Text(0, 0, 'D2'),\n",
              " Text(0, 0, 'D3'),\n",
              " Text(0, 0, 'D4'),\n",
              " Text(0, 0, 'D5'),\n",
              " Text(0, 0, 'E1'),\n",
              " Text(0, 0, 'E2'),\n",
              " Text(0, 0, 'E3'),\n",
              " Text(0, 0, 'E4'),\n",
              " Text(0, 0, 'E5'),\n",
              " Text(0, 0, 'F1'),\n",
              " Text(0, 0, 'F2'),\n",
              " Text(0, 0, 'F3'),\n",
              " Text(0, 0, 'F4'),\n",
              " Text(0, 0, 'F5'),\n",
              " Text(0, 0, 'G1'),\n",
              " Text(0, 0, 'G2'),\n",
              " Text(0, 0, 'G3'),\n",
              " Text(0, 0, 'G4'),\n",
              " Text(0, 0, 'G5')]"
            ]
          },
          "metadata": {
            "tags": []
          },
          "execution_count": 13
        },
        {
          "output_type": "display_data",
          "data": {
            "image/png": "[encoded data removed]",
            "text/plain": [
              "<Figure size 1080x720 with 2 Axes>"
            ]
          },
          "metadata": {
            "tags": [],
            "needs_background": "light"
          }
        }
      ]
    },
    {
      "cell_type": "markdown",
      "metadata": {
        "id": "6ygNraPL3G4A"
      },
      "source": [
        "Now observing percentage distribution amongst grade acc. to loan status "
      ]
    },
    {
      "cell_type": "code",
      "metadata": {
        "colab": {
          "base_uri": "https://localhost:8080/"
        },
        "id": "nf-FsbtiNd2H",
        "outputId": "1ca558cc-aa03-403b-e874-6cb6493291e9"
      },
      "source": [
        "print(\"Percentage distribution amongst grade acc. to loan status \\n\")\n",
        "grade_status=(train_df.groupby(by=['grade','loan_status'])['grade'].count())\n",
        "grade = train_df.groupby(['grade'])['loan_status'].count()\n",
        "grade_status.div(grade, level='grade') * 100"
      ],
      "execution_count": 14,
      "outputs": [
        {
          "output_type": "stream",
          "text": [
            "Percentage distribution amongst grade acc. to loan status \n",
            "\n"
          ],
          "name": "stdout"
        },
        {
          "output_type": "execute_result",
          "data": {
            "text/plain": [
              "grade  loan_status\n",
              "A      0              73.112101\n",
              "       1              26.887899\n",
              "B      0              73.672182\n",
              "       1              26.327818\n",
              "C      0              78.359175\n",
              "       1              21.640825\n",
              "D      0              78.283294\n",
              "       1              21.716706\n",
              "E      0              81.310742\n",
              "       1              18.689258\n",
              "F      0              79.082887\n",
              "       1              20.917113\n",
              "G      0              76.404843\n",
              "       1              23.595157\n",
              "dtype: float64"
            ]
          },
          "metadata": {
            "tags": []
          },
          "execution_count": 14
        }
      ]
    },
    {
      "cell_type": "markdown",
      "metadata": {
        "id": "YC1U6Q5U3RUD"
      },
      "source": [
        "Percentage distribution is quite similar, with most difference in grade 'E'"
      ]
    },
    {
      "cell_type": "markdown",
      "metadata": {
        "id": "VSD9RpTh7cPi"
      },
      "source": [
        "**Home ownership**"
      ]
    },
    {
      "cell_type": "code",
      "metadata": {
        "colab": {
          "base_uri": "https://localhost:8080/"
        },
        "id": "OgD5zJ8NNdy-",
        "outputId": "0e3e3b55-5965-4173-b8f1-6d06af51dd40"
      },
      "source": [
        "train_df.home_ownership.value_counts()"
      ],
      "execution_count": 15,
      "outputs": [
        {
          "output_type": "execute_result",
          "data": {
            "text/plain": [
              "MORTGAGE    265940\n",
              "RENT        213668\n",
              "OWN          52664\n",
              "OTHER          117\n",
              "NONE            36\n",
              "ANY              3\n",
              "Name: home_ownership, dtype: int64"
            ]
          },
          "metadata": {
            "tags": []
          },
          "execution_count": 15
        }
      ]
    },
    {
      "cell_type": "code",
      "metadata": {
        "colab": {
          "base_uri": "https://localhost:8080/",
          "height": 672
        },
        "id": "AIbXrqShNdw7",
        "outputId": "6cc3da8a-1cac-4c58-f639-2087391da890"
      },
      "source": [
        "plt.figure(figsize=(15, 20))\n",
        "\n",
        "plt.subplot(4, 2, 1)\n",
        "sns.countplot(x='term', data=train_df, hue='loan_status')\n",
        "\n",
        "plt.subplot(4, 2, 2)\n",
        "sns.countplot(x='home_ownership', data=train_df, hue='loan_status')\n",
        "\n",
        "plt.subplot(4, 2, 3)\n",
        "sns.countplot(x='verification_status', data=train_df, hue='loan_status')\n",
        "\n",
        "plt.subplot(4, 2, 4)\n",
        "g = sns.countplot(x='purpose', data=train_df, hue='loan_status')\n",
        "g.set_xticklabels(g.get_xticklabels(), rotation=90);"
      ],
      "execution_count": 16,
      "outputs": [
        {
          "output_type": "display_data",
          "data": {
            "image/png": "[encoded data removed]",
            "text/plain": [
              "<Figure size 1080x1440 with 4 Axes>"
            ]
          },
          "metadata": {
            "tags": [],
            "needs_background": "light"
          }
        }
      ]
    },
    {
      "cell_type": "markdown",
      "metadata": {
        "id": "5UTLjzV44GRQ"
      },
      "source": [
        "**Interest Rate distribution**"
      ]
    },
    {
      "cell_type": "code",
      "metadata": {
        "colab": {
          "base_uri": "https://localhost:8080/",
          "height": 458
        },
        "id": "zRAbs6XfNduI",
        "outputId": "e8f67d99-e01a-4b30-9f08-086637af48b0"
      },
      "source": [
        "plt.figure(figsize=(10,7))\n",
        "\n",
        "train_df[train_df[\"loan_status\"] == 0][\"int_rate\"].hist(bins=35, color='blue', label='0', alpha=0.6)\n",
        "train_df[train_df[\"loan_status\"] == 1][\"int_rate\"].hist(bins=35, color='red', label='1', alpha=0.6)\n",
        "plt.legend()\n",
        "plt.xlabel(\"int_rate\")\n",
        "\n"
      ],
      "execution_count": 17,
      "outputs": [
        {
          "output_type": "execute_result",
          "data": {
            "text/plain": [
              "Text(0.5, 0, 'int_rate')"
            ]
          },
          "metadata": {
            "tags": []
          },
          "execution_count": 17
        },
        {
          "output_type": "display_data",
          "data": {
            "image/png": "[encoded data removed]",
            "text/plain": [
              "<Figure size 720x504 with 1 Axes>"
            ]
          },
          "metadata": {
            "tags": [],
            "needs_background": "light"
          }
        }
      ]
    },
    {
      "cell_type": "markdown",
      "metadata": {
        "id": "KHxBTfG98RyX"
      },
      "source": [
        "**emp_title and emp_length**"
      ]
    },
    {
      "cell_type": "markdown",
      "metadata": {
        "id": "HTCXZ7685LRy"
      },
      "source": [
        "Merging different em_title into one"
      ]
    },
    {
      "cell_type": "code",
      "metadata": {
        "id": "qXLbF_qONdrg"
      },
      "source": [
        "train_df['emp_title'] = train_df.emp_title.str.lower()"
      ],
      "execution_count": 18,
      "outputs": []
    },
    {
      "cell_type": "code",
      "metadata": {
        "id": "hrzy7wVaYd5n"
      },
      "source": [
        "def manager(string):\n",
        "    if type(string) is str:\n",
        "        return 'manager' if 'manager' in string else string\n",
        "\n",
        "def president(string):\n",
        "    if type(string) is str:\n",
        "        return 'president' if 'president' in string else string\n",
        "    \n",
        "def nurse(string):\n",
        "    if type(string) is str:\n",
        "        return 'nurse' if 'nurse' in string else string\n",
        "    \n",
        "def driver(string):\n",
        "    if type(string) is str:\n",
        "        return 'driver' if 'driver' in string else string\n",
        "    \n",
        "def assistant(string):\n",
        "    if type(string) is str:\n",
        "        return 'assistant' if 'assistant' in string else string\n",
        "\n",
        "def engineer(string):\n",
        "    if type(string) is str:\n",
        "        return 'engineer' if 'engineer' in string else string \n",
        "\n",
        "def teacher(string):\n",
        "    if type(string) is str:\n",
        "        return 'teacher' if 'teacher' in string else string    \n",
        "\n",
        "functions = [manager, president, nurse, driver, assistant, engineer, teacher]\n",
        "for func in functions:\n",
        "    train_df['emp_title'] = train_df.emp_title.apply(func)"
      ],
      "execution_count": 19,
      "outputs": []
    },
    {
      "cell_type": "code",
      "metadata": {
        "colab": {
          "base_uri": "https://localhost:8080/"
        },
        "id": "JngANcdUNde7",
        "outputId": "501b041d-025c-4a12-bee2-0735df073344"
      },
      "source": [
        "train_df.emp_title.value_counts()[:30]"
      ],
      "execution_count": 20,
      "outputs": [
        {
          "output_type": "execute_result",
          "data": {
            "text/plain": [
              "manager              65004\n",
              "engineer             12969\n",
              "teacher              12229\n",
              "assistant            12205\n",
              "driver                9276\n",
              "nurse                 8956\n",
              "president             6007\n",
              "owner                 5305\n",
              "supervisor            4502\n",
              "sales                 3923\n",
              "rn                    3656\n",
              "director              2159\n",
              "police officer        1638\n",
              "attorney              1497\n",
              "accountant            1469\n",
              "technician            1407\n",
              "mechanic              1256\n",
              "analyst               1092\n",
              "server                1059\n",
              "customer service       982\n",
              "paralegal              924\n",
              "electrician            915\n",
              "consultant             878\n",
              "operator               875\n",
              "foreman                865\n",
              "controller             814\n",
              "account executive      807\n",
              "administrator          792\n",
              "machine operator       767\n",
              "clerk                  725\n",
              "Name: emp_title, dtype: int64"
            ]
          },
          "metadata": {
            "tags": []
          },
          "execution_count": 20
        }
      ]
    },
    {
      "cell_type": "code",
      "metadata": {
        "colab": {
          "base_uri": "https://localhost:8080/",
          "height": 465
        },
        "id": "2Fv_N1IAIU_Z",
        "outputId": "2b4d8f2e-7da3-4729-bf30-a114bb15deee"
      },
      "source": [
        "plt.figure(figsize=(20, 15))\n",
        "\n",
        "plt.subplot(2, 2, 1)\n",
        "order = ['< 1 year', '1 year', '2 years', '3 years', '4 years', '5 years', \n",
        "          '6 years', '7 years', '8 years', '9 years', '10+ years',]\n",
        "sns.countplot(x='emp_length', data=train_df, hue='loan_status', order=order)\n",
        "\n",
        "plt.subplot(2, 2, 2)\n",
        "plt.barh(train_df.emp_title.value_counts()[:30].index, train_df.emp_title.value_counts()[:30])\n",
        "plt.title(\"Top jobs who afforded a loan\")"
      ],
      "execution_count": 21,
      "outputs": [
        {
          "output_type": "execute_result",
          "data": {
            "text/plain": [
              "Text(0.5, 1.0, 'Top jobs who afforded a loan')"
            ]
          },
          "metadata": {
            "tags": []
          },
          "execution_count": 21
        },
        {
          "output_type": "display_data",
          "data": {
            "image/png": "[encoded data removed]",
            "text/plain": [
              "<Figure size 1440x1080 with 2 Axes>"
            ]
          },
          "metadata": {
            "tags": [],
            "needs_background": "light"
          }
        }
      ]
    },
    {
      "cell_type": "markdown",
      "metadata": {
        "id": "vqmJ2W6W5a8V"
      },
      "source": [
        "Percentage distribution amongst emp_length acc. to loan status"
      ]
    },
    {
      "cell_type": "code",
      "metadata": {
        "colab": {
          "base_uri": "https://localhost:8080/"
        },
        "id": "DNYSqJ75IU81",
        "outputId": "7644e4e2-93c6-4880-e4cd-035fa5261cc5"
      },
      "source": [
        "print(\"Percentage distribution amongst emp_length acc. to loan status \\n\")\n",
        "emplength_status=(train_df.groupby(by=['emp_length','loan_status'])['emp_length'].count())\n",
        "emp_length = train_df.groupby(['emp_length'])['loan_status'].count()\n",
        "emplength_status.div(emp_length, level='emp_length') * 100"
      ],
      "execution_count": 22,
      "outputs": [
        {
          "output_type": "stream",
          "text": [
            "Percentage distribution amongst emp_length acc. to loan status \n",
            "\n"
          ],
          "name": "stdout"
        },
        {
          "output_type": "execute_result",
          "data": {
            "text/plain": [
              "emp_length  loan_status\n",
              "1 year      0              75.048243\n",
              "            1              24.951757\n",
              "10+ years   0              78.058308\n",
              "            1              21.941692\n",
              "2 years     0              74.966156\n",
              "            1              25.033844\n",
              "3 years     0              75.817427\n",
              "            1              24.182573\n",
              "4 years     0              74.225009\n",
              "            1              25.774991\n",
              "5 years     0              73.278831\n",
              "            1              26.721169\n",
              "6 years     0              71.881434\n",
              "            1              28.118566\n",
              "7 years     0              73.995502\n",
              "            1              26.004498\n",
              "8 years     0              77.419355\n",
              "            1              22.580645\n",
              "9 years     0              77.054331\n",
              "            1              22.945669\n",
              "< 1 year    0              75.402930\n",
              "            1              24.597070\n",
              "dtype: float64"
            ]
          },
          "metadata": {
            "tags": []
          },
          "execution_count": 22
        }
      ]
    },
    {
      "cell_type": "markdown",
      "metadata": {
        "id": "xr8ukjXS5gfs"
      },
      "source": [
        "Percentage distribution looks similar across emp_length,So we will drop it."
      ]
    },
    {
      "cell_type": "code",
      "metadata": {
        "id": "eGjm_Deia04L"
      },
      "source": [
        "train_df.drop('emp_length', axis=1, inplace=True)\n",
        "test_df.drop('emp_length', axis=1, inplace=True)"
      ],
      "execution_count": 23,
      "outputs": []
    },
    {
      "cell_type": "markdown",
      "metadata": {
        "id": "9UyojyGq9HZo"
      },
      "source": [
        "**Title**"
      ]
    },
    {
      "cell_type": "code",
      "metadata": {
        "id": "81JosksPIU67"
      },
      "source": [
        "train_df['title'] = train_df.title.str.lower()"
      ],
      "execution_count": 24,
      "outputs": []
    },
    {
      "cell_type": "code",
      "metadata": {
        "colab": {
          "base_uri": "https://localhost:8080/"
        },
        "id": "DbAhBogoIU5R",
        "outputId": "b8f3a372-a399-4b43-bb0f-970fb453fc2d"
      },
      "source": [
        "train_df.title.value_counts()[:30]"
      ],
      "execution_count": 25,
      "outputs": [
        {
          "output_type": "execute_result",
          "data": {
            "text/plain": [
              "debt consolidation           262322\n",
              "credit card refinancing       98818\n",
              "home improvement              25665\n",
              "other                         19106\n",
              "major purchase                 7392\n",
              "consolidation                  4828\n",
              "medical expenses               4057\n",
              "business                       4014\n",
              "car financing                  3353\n",
              "debt consolidation loan        2939\n",
              "vacation                       2387\n",
              "moving and relocation          2358\n",
              "credit card consolidation      2224\n",
              "personal loan                  2059\n",
              "credit card payoff             1559\n",
              "consolidation loan             1542\n",
              "credit card refinance          1528\n",
              "home buying                    1403\n",
              "consolidate                    1311\n",
              "personal                       1293\n",
              "loan                            991\n",
              "payoff                          924\n",
              "debt                            871\n",
              "credit cards                    856\n",
              "freedom                         787\n",
              "credit card                     754\n",
              "my loan                         734\n",
              "credit card loan                654\n",
              "debt free                       645\n",
              "debt loan                       489\n",
              "Name: title, dtype: int64"
            ]
          },
          "metadata": {
            "tags": []
          },
          "execution_count": 25
        }
      ]
    },
    {
      "cell_type": "markdown",
      "metadata": {
        "id": "pH62CrsC568o"
      },
      "source": [
        "Plotting 10 main reasons for loan"
      ]
    },
    {
      "cell_type": "code",
      "metadata": {
        "colab": {
          "base_uri": "https://localhost:8080/",
          "height": 460
        },
        "id": "t5IrTtgAIU1b",
        "outputId": "ae887c2b-7263-4b4a-c00a-120fcdec2f5f"
      },
      "source": [
        "plt.figure(figsize=(10, 7))\n",
        "plt.barh(train_df.title.value_counts()[:10].index, train_df.title.value_counts()[:10])\n",
        "plt.title(\"10 main reasons for loan\")"
      ],
      "execution_count": 26,
      "outputs": [
        {
          "output_type": "execute_result",
          "data": {
            "text/plain": [
              "Text(0.5, 1.0, '10 main reasons for loan')"
            ]
          },
          "metadata": {
            "tags": []
          },
          "execution_count": 26
        },
        {
          "output_type": "display_data",
          "data": {
            "image/png": "[encoded data removed]",
            "text/plain": [
              "<Figure size 720x504 with 1 Axes>"
            ]
          },
          "metadata": {
            "tags": [],
            "needs_background": "light"
          }
        }
      ]
    },
    {
      "cell_type": "markdown",
      "metadata": {
        "id": "zaqs3Zr-_Hmh"
      },
      "source": [
        "**dti, open_acc, revol_bal, revol_util, & total_acc**"
      ]
    },
    {
      "cell_type": "code",
      "metadata": {
        "colab": {
          "base_uri": "https://localhost:8080/",
          "height": 871
        },
        "id": "PTBMuEZ7NIOd",
        "outputId": "2433bf47-bee6-4c13-a45e-292b794c4d56"
      },
      "source": [
        "plt.figure(figsize=(15, 30))\n",
        "\n",
        "plt.subplot(6, 2, 1)\n",
        "train_df[train_df[\"loan_status\"] == 0][\"dti\"].value_counts().hist(bins=35, color='blue', \n",
        "                                                                     label='0', alpha=0.6)\n",
        "train_df[train_df[\"loan_status\"] == 1][\"dti\"].value_counts().hist(bins=35, color='red', \n",
        "                                                                      label='1', alpha=0.6)\n",
        "plt.legend()\n",
        "plt.xlabel(\"dti\")\n",
        "\n",
        "plt.subplot(6, 2, 2)\n",
        "train_df[train_df[\"loan_status\"] == 0][\"open_acc\"].hist(bins=35, color='blue', label='0', alpha=0.6)\n",
        "train_df[train_df[\"loan_status\"] == 1][\"open_acc\"].hist(bins=35, color='red', label='1', alpha=0.6)\n",
        "plt.legend()\n",
        "plt.xlabel(\"open_acc\")\n",
        "\n",
        "plt.subplot(6, 2, 3)\n",
        "df = train_df[(train_df.revol_bal <= 10000)]\n",
        "df[df[\"loan_status\"] == 0][\"revol_bal\"].hist(bins=35, color='blue', label='0', alpha=0.6)\n",
        "df[df[\"loan_status\"] == 1][\"revol_bal\"].hist(bins=35, color='red', label='1', alpha=0.6)\n",
        "plt.legend()\n",
        "plt.xlabel(\"revol_bal\")\n",
        "\n",
        "plt.subplot(6, 2, 4)\n",
        "train_df[train_df[\"loan_status\"] == 0][\"revol_util\"].hist(bins=35, color='blue', label='0', alpha=0.6)\n",
        "train_df[train_df[\"loan_status\"] == 1][\"revol_util\"].hist(bins=35, color='red', label='1', alpha=0.6)\n",
        "plt.legend()\n",
        "plt.xlabel(\"revol_util\")\n",
        "\n",
        "plt.subplot(6, 2, 5)\n",
        "df = train_df[(train_df.revol_bal <= 10000)]\n",
        "df[df[\"loan_status\"] == 0][\"total_acc\"].hist(bins=35, color='blue', label='0', alpha=0.6)\n",
        "df[df[\"loan_status\"] == 1][\"total_acc\"].hist(bins=35, color='red', label='1', alpha=0.6)\n",
        "plt.legend()\n",
        "plt.xlabel(\"total_acc\")"
      ],
      "execution_count": 27,
      "outputs": [
        {
          "output_type": "execute_result",
          "data": {
            "text/plain": [
              "Text(0.5, 0, 'total_acc')"
            ]
          },
          "metadata": {
            "tags": []
          },
          "execution_count": 27
        },
        {
          "output_type": "display_data",
          "data": {
            "image/png": "[encoded data removed]",
            "text/plain": [
              "<Figure size 1080x2160 with 5 Axes>"
            ]
          },
          "metadata": {
            "tags": [],
            "needs_background": "light"
          }
        }
      ]
    },
    {
      "cell_type": "markdown",
      "metadata": {
        "id": "prSDZUb5_TEb"
      },
      "source": [
        "**pub_rec, initial_list_status, application_type**\n"
      ]
    },
    {
      "cell_type": "code",
      "metadata": {
        "id": "6WKxwNDdOu9I"
      },
      "source": [
        "def pub_rec(number):\n",
        "    if number == 0.0:\n",
        "        return 0\n",
        "    else:\n",
        "        return 1\n",
        "\n",
        "train_df['pub_rec'] = train_df.pub_rec.apply(pub_rec)"
      ],
      "execution_count": 28,
      "outputs": []
    },
    {
      "cell_type": "code",
      "metadata": {
        "colab": {
          "base_uri": "https://localhost:8080/",
          "height": 351
        },
        "id": "YdTD0ElpIUwz",
        "outputId": "5a34598c-8f7d-4d20-cf25-97d244d44972"
      },
      "source": [
        "plt.figure(figsize=(15,5))\n",
        "\n",
        "plt.subplot(1, 3, 1)\n",
        "sns.countplot(x='pub_rec', data=train_df, hue='loan_status')\n",
        "\n",
        "plt.subplot(1, 3, 2)\n",
        "sns.countplot(x='initial_list_status', data=train_df, hue='loan_status')\n",
        "\n",
        "plt.subplot(1, 3, 3)\n",
        "sns.countplot(x='application_type', data=train_df, hue='loan_status')"
      ],
      "execution_count": 29,
      "outputs": [
        {
          "output_type": "execute_result",
          "data": {
            "text/plain": [
              "<matplotlib.axes._subplots.AxesSubplot at 0x7f9cd54c2b10>"
            ]
          },
          "metadata": {
            "tags": []
          },
          "execution_count": 29
        },
        {
          "output_type": "display_data",
          "data": {
            "image/png": "[encoded data removed]",
            "text/plain": [
              "<Figure size 1080x360 with 3 Axes>"
            ]
          },
          "metadata": {
            "tags": [],
            "needs_background": "light"
          }
        }
      ]
    },
    {
      "cell_type": "markdown",
      "metadata": {
        "id": "eyaHUrF0_pJ8"
      },
      "source": [
        "**numeric features correlation with the target variable**"
      ]
    },
    {
      "cell_type": "code",
      "metadata": {
        "colab": {
          "base_uri": "https://localhost:8080/",
          "height": 498
        },
        "id": "9yCuxdvoKMUX",
        "outputId": "52e70a32-8bf5-4617-87d5-d2d3325a94a2"
      },
      "source": [
        "plt.figure(figsize=(10, 8))\n",
        "train_df.corr()['loan_status'].drop('loan_status').sort_values().plot(kind='barh')"
      ],
      "execution_count": 30,
      "outputs": [
        {
          "output_type": "execute_result",
          "data": {
            "text/plain": [
              "<matplotlib.axes._subplots.AxesSubplot at 0x7f9cd545df90>"
            ]
          },
          "metadata": {
            "tags": []
          },
          "execution_count": 30
        },
        {
          "output_type": "display_data",
          "data": {
            "image/png": "[encoded data removed]",
            "text/plain": [
              "<Figure size 720x576 with 1 Axes>"
            ]
          },
          "metadata": {
            "tags": [],
            "needs_background": "light"
          }
        }
      ]
    },
    {
      "cell_type": "markdown",
      "metadata": {
        "id": "q6GloeCnAPRn"
      },
      "source": [
        "# **Data PreProcessing**"
      ]
    },
    {
      "cell_type": "code",
      "metadata": {
        "colab": {
          "base_uri": "https://localhost:8080/"
        },
        "id": "itAz_exZZ93q",
        "outputId": "a521ee21-d9fc-4b4b-98f6-3593d54d52e2"
      },
      "source": [
        "train_df.title.value_counts().head()"
      ],
      "execution_count": 31,
      "outputs": [
        {
          "output_type": "execute_result",
          "data": {
            "text/plain": [
              "debt consolidation         262322\n",
              "credit card refinancing     98818\n",
              "home improvement            25665\n",
              "other                       19106\n",
              "major purchase               7392\n",
              "Name: title, dtype: int64"
            ]
          },
          "metadata": {
            "tags": []
          },
          "execution_count": 31
        }
      ]
    },
    {
      "cell_type": "code",
      "metadata": {
        "colab": {
          "base_uri": "https://localhost:8080/"
        },
        "id": "DPHe1k1LZ90X",
        "outputId": "3f9fb5c8-fb0c-4124-a7c7-768dca4ce223"
      },
      "source": [
        "train_df.purpose.value_counts().head()"
      ],
      "execution_count": 32,
      "outputs": [
        {
          "output_type": "execute_result",
          "data": {
            "text/plain": [
              "debt_consolidation    314989\n",
              "credit_card           123670\n",
              "home_improvement       31087\n",
              "other                  25652\n",
              "major_purchase         10284\n",
              "Name: purpose, dtype: int64"
            ]
          },
          "metadata": {
            "tags": []
          },
          "execution_count": 32
        }
      ]
    },
    {
      "cell_type": "markdown",
      "metadata": {
        "id": "Yuu8DfTtAed9"
      },
      "source": [
        "title and purpose have almost same distribution and meaning"
      ]
    },
    {
      "cell_type": "code",
      "metadata": {
        "id": "zqpOgaDkZ9xk"
      },
      "source": [
        "train_df.drop('title', axis=1, inplace=True)\n",
        "test_df.drop('title', axis=1, inplace=True)"
      ],
      "execution_count": 33,
      "outputs": []
    },
    {
      "cell_type": "markdown",
      "metadata": {
        "id": "Y7odyZMCA3cM"
      },
      "source": [
        "since sub-grade is sub category of grade. However, they might be highly correlated,if I remove the main category column each subcategory in the subcategory column will be treated individually and If I remove the subcategory column I would lose on some information.Grade may provide simpler model but sub-grade has too many levels to be interpreted. SO, I'll drop sub_grade."
      ]
    },
    {
      "cell_type": "code",
      "metadata": {
        "id": "nIYVHWAnA3tN"
      },
      "source": [
        "train_df.drop('sub_grade', axis=1, inplace=True)\n",
        "test_df.drop('sub_grade', axis=1, inplace=True)"
      ],
      "execution_count": 34,
      "outputs": []
    },
    {
      "cell_type": "code",
      "metadata": {
        "colab": {
          "base_uri": "https://localhost:8080/"
        },
        "id": "r64TK2zFKMPG",
        "outputId": "fa64cd6f-9afb-4fa9-ad85-38692858b6f9"
      },
      "source": [
        "print(train_df.shape)\n",
        "print(test_df.shape)"
      ],
      "execution_count": 35,
      "outputs": [
        {
          "output_type": "stream",
          "text": [
            "(532428, 41)\n",
            "(354951, 40)\n"
          ],
          "name": "stdout"
        }
      ]
    },
    {
      "cell_type": "markdown",
      "metadata": {
        "id": "7Gj5u7FSCWiL"
      },
      "source": [
        "Dropping duplicates"
      ]
    },
    {
      "cell_type": "code",
      "metadata": {
        "id": "zKxy8D4IKMMU"
      },
      "source": [
        "train_df.drop_duplicates(inplace=True)\n",
        "test_df.drop_duplicates(inplace=True)"
      ],
      "execution_count": 36,
      "outputs": []
    },
    {
      "cell_type": "code",
      "metadata": {
        "colab": {
          "base_uri": "https://localhost:8080/"
        },
        "id": "k9834oZYKMJZ",
        "outputId": "31f34457-70fd-48ab-a319-097d3e57e16d"
      },
      "source": [
        "print(train_df.shape)\n",
        "print(test_df.shape)"
      ],
      "execution_count": 37,
      "outputs": [
        {
          "output_type": "stream",
          "text": [
            "(532428, 41)\n",
            "(354951, 40)\n"
          ],
          "name": "stdout"
        }
      ]
    },
    {
      "cell_type": "code",
      "metadata": {
        "id": "zWI4LsF5-lmP"
      },
      "source": [
        "def nunique_dtypes(df):\n",
        "  return pd.merge(pd.DataFrame(df.nunique()), pd.DataFrame(df.dtypes), left_index=True, right_index=True,suffixes=('_nunique', '_dtype'))"
      ],
      "execution_count": 38,
      "outputs": []
    },
    {
      "cell_type": "code",
      "metadata": {
        "colab": {
          "base_uri": "https://localhost:8080/",
          "height": 1000
        },
        "id": "olne03kN2mkw",
        "outputId": "330b53b3-d945-4321-c27e-94280d8d5a6f"
      },
      "source": [
        "nunique_dtypes(train_df).join(train_df.head().T)"
      ],
      "execution_count": 39,
      "outputs": [
        {
          "output_type": "execute_result",
          "data": {
            "text/html": [
              "<div>\n",
              "<style scoped>\n",
              "    .dataframe tbody tr th:only-of-type {\n",
              "        vertical-align: middle;\n",
              "    }\n",
              "\n",
              "    .dataframe tbody tr th {\n",
              "        vertical-align: top;\n",
              "    }\n",
              "\n",
              "    .dataframe thead th {\n",
              "        text-align: right;\n",
              "    }\n",
              "</style>\n",
              "<table border=\"1\" class=\"dataframe\">\n",
              "  <thead>\n",
              "    <tr style=\"text-align: right;\">\n",
              "      <th></th>\n",
              "      <th>0_nunique</th>\n",
              "      <th>0_dtype</th>\n",
              "      <th>0</th>\n",
              "      <th>1</th>\n",
              "      <th>2</th>\n",
              "      <th>3</th>\n",
              "      <th>4</th>\n",
              "    </tr>\n",
              "  </thead>\n",
              "  <tbody>\n",
              "    <tr>\n",
              "      <th>loan_amnt</th>\n",
              "      <td>1370</td>\n",
              "      <td>int64</td>\n",
              "      <td>14350</td>\n",
              "      <td>4800</td>\n",
              "      <td>10000</td>\n",
              "      <td>15000</td>\n",
              "      <td>16000</td>\n",
              "    </tr>\n",
              "    <tr>\n",
              "      <th>funded_amnt</th>\n",
              "      <td>1370</td>\n",
              "      <td>int64</td>\n",
              "      <td>14350</td>\n",
              "      <td>4800</td>\n",
              "      <td>10000</td>\n",
              "      <td>15000</td>\n",
              "      <td>16000</td>\n",
              "    </tr>\n",
              "    <tr>\n",
              "      <th>funded_amnt_inv</th>\n",
              "      <td>6442</td>\n",
              "      <td>float64</td>\n",
              "      <td>14350</td>\n",
              "      <td>4800</td>\n",
              "      <td>10000</td>\n",
              "      <td>15000</td>\n",
              "      <td>16000</td>\n",
              "    </tr>\n",
              "    <tr>\n",
              "      <th>term</th>\n",
              "      <td>2</td>\n",
              "      <td>object</td>\n",
              "      <td>36 months</td>\n",
              "      <td>36 months</td>\n",
              "      <td>36 months</td>\n",
              "      <td>36 months</td>\n",
              "      <td>36 months</td>\n",
              "    </tr>\n",
              "    <tr>\n",
              "      <th>batch_enrolled</th>\n",
              "      <td>104</td>\n",
              "      <td>object</td>\n",
              "      <td></td>\n",
              "      <td>BAT1586599</td>\n",
              "      <td>BAT1586599</td>\n",
              "      <td>BAT4808022</td>\n",
              "      <td>BAT2833642</td>\n",
              "    </tr>\n",
              "    <tr>\n",
              "      <th>int_rate</th>\n",
              "      <td>535</td>\n",
              "      <td>float64</td>\n",
              "      <td>19.19</td>\n",
              "      <td>10.99</td>\n",
              "      <td>7.26</td>\n",
              "      <td>19.72</td>\n",
              "      <td>10.64</td>\n",
              "    </tr>\n",
              "    <tr>\n",
              "      <th>grade</th>\n",
              "      <td>7</td>\n",
              "      <td>object</td>\n",
              "      <td>E</td>\n",
              "      <td>B</td>\n",
              "      <td>A</td>\n",
              "      <td>D</td>\n",
              "      <td>B</td>\n",
              "    </tr>\n",
              "    <tr>\n",
              "      <th>emp_title</th>\n",
              "      <td>145843</td>\n",
              "      <td>object</td>\n",
              "      <td>clerk</td>\n",
              "      <td>human resources specialist</td>\n",
              "      <td>driver</td>\n",
              "      <td>us office of personnel management</td>\n",
              "      <td>lausd-hollywood high school</td>\n",
              "    </tr>\n",
              "    <tr>\n",
              "      <th>home_ownership</th>\n",
              "      <td>6</td>\n",
              "      <td>object</td>\n",
              "      <td>OWN</td>\n",
              "      <td>MORTGAGE</td>\n",
              "      <td>OWN</td>\n",
              "      <td>RENT</td>\n",
              "      <td>RENT</td>\n",
              "    </tr>\n",
              "    <tr>\n",
              "      <th>annual_inc</th>\n",
              "      <td>33988</td>\n",
              "      <td>float64</td>\n",
              "      <td>28700</td>\n",
              "      <td>65000</td>\n",
              "      <td>45000</td>\n",
              "      <td>105000</td>\n",
              "      <td>52000</td>\n",
              "    </tr>\n",
              "    <tr>\n",
              "      <th>verification_status</th>\n",
              "      <td>3</td>\n",
              "      <td>object</td>\n",
              "      <td>Source Verified</td>\n",
              "      <td>Source Verified</td>\n",
              "      <td>Not Verified</td>\n",
              "      <td>Not Verified</td>\n",
              "      <td>Verified</td>\n",
              "    </tr>\n",
              "    <tr>\n",
              "      <th>pymnt_plan</th>\n",
              "      <td>2</td>\n",
              "      <td>object</td>\n",
              "      <td>n</td>\n",
              "      <td>n</td>\n",
              "      <td>n</td>\n",
              "      <td>n</td>\n",
              "      <td>n</td>\n",
              "    </tr>\n",
              "    <tr>\n",
              "      <th>desc</th>\n",
              "      <td>70638</td>\n",
              "      <td>object</td>\n",
              "      <td>NaN</td>\n",
              "      <td>NaN</td>\n",
              "      <td>NaN</td>\n",
              "      <td>&gt; My goal is to obtain a loan to pay off my hi...</td>\n",
              "      <td>NaN</td>\n",
              "    </tr>\n",
              "    <tr>\n",
              "      <th>purpose</th>\n",
              "      <td>14</td>\n",
              "      <td>object</td>\n",
              "      <td>debt_consolidation</td>\n",
              "      <td>home_improvement</td>\n",
              "      <td>debt_consolidation</td>\n",
              "      <td>debt_consolidation</td>\n",
              "      <td>credit_card</td>\n",
              "    </tr>\n",
              "    <tr>\n",
              "      <th>zip_code</th>\n",
              "      <td>917</td>\n",
              "      <td>object</td>\n",
              "      <td>349xx</td>\n",
              "      <td>209xx</td>\n",
              "      <td>447xx</td>\n",
              "      <td>221xx</td>\n",
              "      <td>900xx</td>\n",
              "    </tr>\n",
              "    <tr>\n",
              "      <th>addr_state</th>\n",
              "      <td>51</td>\n",
              "      <td>object</td>\n",
              "      <td>FL</td>\n",
              "      <td>MD</td>\n",
              "      <td>OH</td>\n",
              "      <td>VA</td>\n",
              "      <td>CA</td>\n",
              "    </tr>\n",
              "    <tr>\n",
              "      <th>dti</th>\n",
              "      <td>4058</td>\n",
              "      <td>float64</td>\n",
              "      <td>33.88</td>\n",
              "      <td>3.64</td>\n",
              "      <td>18.42</td>\n",
              "      <td>14.97</td>\n",
              "      <td>20.16</td>\n",
              "    </tr>\n",
              "    <tr>\n",
              "      <th>delinq_2yrs</th>\n",
              "      <td>26</td>\n",
              "      <td>float64</td>\n",
              "      <td>0</td>\n",
              "      <td>0</td>\n",
              "      <td>0</td>\n",
              "      <td>0</td>\n",
              "      <td>0</td>\n",
              "    </tr>\n",
              "    <tr>\n",
              "      <th>inq_last_6mths</th>\n",
              "      <td>23</td>\n",
              "      <td>float64</td>\n",
              "      <td>1</td>\n",
              "      <td>1</td>\n",
              "      <td>0</td>\n",
              "      <td>2</td>\n",
              "      <td>0</td>\n",
              "    </tr>\n",
              "    <tr>\n",
              "      <th>mths_since_last_delinq</th>\n",
              "      <td>147</td>\n",
              "      <td>float64</td>\n",
              "      <td>50</td>\n",
              "      <td>NaN</td>\n",
              "      <td>NaN</td>\n",
              "      <td>46</td>\n",
              "      <td>NaN</td>\n",
              "    </tr>\n",
              "    <tr>\n",
              "      <th>mths_since_last_record</th>\n",
              "      <td>122</td>\n",
              "      <td>float64</td>\n",
              "      <td>75</td>\n",
              "      <td>NaN</td>\n",
              "      <td>NaN</td>\n",
              "      <td>NaN</td>\n",
              "      <td>NaN</td>\n",
              "    </tr>\n",
              "    <tr>\n",
              "      <th>open_acc</th>\n",
              "      <td>73</td>\n",
              "      <td>float64</td>\n",
              "      <td>14</td>\n",
              "      <td>6</td>\n",
              "      <td>5</td>\n",
              "      <td>10</td>\n",
              "      <td>11</td>\n",
              "    </tr>\n",
              "    <tr>\n",
              "      <th>pub_rec</th>\n",
              "      <td>2</td>\n",
              "      <td>int64</td>\n",
              "      <td>1</td>\n",
              "      <td>0</td>\n",
              "      <td>0</td>\n",
              "      <td>0</td>\n",
              "      <td>0</td>\n",
              "    </tr>\n",
              "    <tr>\n",
              "      <th>revol_bal</th>\n",
              "      <td>63459</td>\n",
              "      <td>float64</td>\n",
              "      <td>22515</td>\n",
              "      <td>7624</td>\n",
              "      <td>10877</td>\n",
              "      <td>13712</td>\n",
              "      <td>35835</td>\n",
              "    </tr>\n",
              "    <tr>\n",
              "      <th>revol_util</th>\n",
              "      <td>1265</td>\n",
              "      <td>float64</td>\n",
              "      <td>73.1</td>\n",
              "      <td>23.2</td>\n",
              "      <td>31.2</td>\n",
              "      <td>55.5</td>\n",
              "      <td>76.2</td>\n",
              "    </tr>\n",
              "    <tr>\n",
              "      <th>total_acc</th>\n",
              "      <td>126</td>\n",
              "      <td>float64</td>\n",
              "      <td>28</td>\n",
              "      <td>13</td>\n",
              "      <td>19</td>\n",
              "      <td>21</td>\n",
              "      <td>27</td>\n",
              "    </tr>\n",
              "    <tr>\n",
              "      <th>initial_list_status</th>\n",
              "      <td>2</td>\n",
              "      <td>object</td>\n",
              "      <td>f</td>\n",
              "      <td>w</td>\n",
              "      <td>w</td>\n",
              "      <td>f</td>\n",
              "      <td>w</td>\n",
              "    </tr>\n",
              "    <tr>\n",
              "      <th>total_rec_int</th>\n",
              "      <td>243149</td>\n",
              "      <td>float64</td>\n",
              "      <td>1173.84</td>\n",
              "      <td>83.95</td>\n",
              "      <td>56.47</td>\n",
              "      <td>4858.62</td>\n",
              "      <td>2296.41</td>\n",
              "    </tr>\n",
              "    <tr>\n",
              "      <th>total_rec_late_fee</th>\n",
              "      <td>4073</td>\n",
              "      <td>float64</td>\n",
              "      <td>0</td>\n",
              "      <td>0</td>\n",
              "      <td>0</td>\n",
              "      <td>0</td>\n",
              "      <td>0</td>\n",
              "    </tr>\n",
              "    <tr>\n",
              "      <th>recoveries</th>\n",
              "      <td>14024</td>\n",
              "      <td>float64</td>\n",
              "      <td>0</td>\n",
              "      <td>0</td>\n",
              "      <td>0</td>\n",
              "      <td>0</td>\n",
              "      <td>0</td>\n",
              "    </tr>\n",
              "    <tr>\n",
              "      <th>collection_recovery_fee</th>\n",
              "      <td>12617</td>\n",
              "      <td>float64</td>\n",
              "      <td>0</td>\n",
              "      <td>0</td>\n",
              "      <td>0</td>\n",
              "      <td>0</td>\n",
              "      <td>0</td>\n",
              "    </tr>\n",
              "    <tr>\n",
              "      <th>collections_12_mths_ex_med</th>\n",
              "      <td>9</td>\n",
              "      <td>float64</td>\n",
              "      <td>0</td>\n",
              "      <td>0</td>\n",
              "      <td>0</td>\n",
              "      <td>0</td>\n",
              "      <td>0</td>\n",
              "    </tr>\n",
              "    <tr>\n",
              "      <th>mths_since_last_major_derog</th>\n",
              "      <td>162</td>\n",
              "      <td>float64</td>\n",
              "      <td>74</td>\n",
              "      <td>NaN</td>\n",
              "      <td>NaN</td>\n",
              "      <td>NaN</td>\n",
              "      <td>NaN</td>\n",
              "    </tr>\n",
              "    <tr>\n",
              "      <th>application_type</th>\n",
              "      <td>2</td>\n",
              "      <td>object</td>\n",
              "      <td>INDIVIDUAL</td>\n",
              "      <td>INDIVIDUAL</td>\n",
              "      <td>INDIVIDUAL</td>\n",
              "      <td>INDIVIDUAL</td>\n",
              "      <td>INDIVIDUAL</td>\n",
              "    </tr>\n",
              "    <tr>\n",
              "      <th>verification_status_joint</th>\n",
              "      <td>3</td>\n",
              "      <td>object</td>\n",
              "      <td>NaN</td>\n",
              "      <td>NaN</td>\n",
              "      <td>NaN</td>\n",
              "      <td>NaN</td>\n",
              "      <td>NaN</td>\n",
              "    </tr>\n",
              "    <tr>\n",
              "      <th>last_week_pay</th>\n",
              "      <td>98</td>\n",
              "      <td>object</td>\n",
              "      <td>26th week</td>\n",
              "      <td>9th week</td>\n",
              "      <td>9th week</td>\n",
              "      <td>135th week</td>\n",
              "      <td>96th week</td>\n",
              "    </tr>\n",
              "    <tr>\n",
              "      <th>acc_now_delinq</th>\n",
              "      <td>8</td>\n",
              "      <td>float64</td>\n",
              "      <td>0</td>\n",
              "      <td>0</td>\n",
              "      <td>0</td>\n",
              "      <td>0</td>\n",
              "      <td>0</td>\n",
              "    </tr>\n",
              "    <tr>\n",
              "      <th>tot_coll_amt</th>\n",
              "      <td>8081</td>\n",
              "      <td>float64</td>\n",
              "      <td>0</td>\n",
              "      <td>0</td>\n",
              "      <td>65</td>\n",
              "      <td>0</td>\n",
              "      <td>0</td>\n",
              "    </tr>\n",
              "    <tr>\n",
              "      <th>tot_cur_bal</th>\n",
              "      <td>251640</td>\n",
              "      <td>float64</td>\n",
              "      <td>28699</td>\n",
              "      <td>9974</td>\n",
              "      <td>38295</td>\n",
              "      <td>55564</td>\n",
              "      <td>47159</td>\n",
              "    </tr>\n",
              "    <tr>\n",
              "      <th>total_rev_hi_lim</th>\n",
              "      <td>14697</td>\n",
              "      <td>float64</td>\n",
              "      <td>30800</td>\n",
              "      <td>32900</td>\n",
              "      <td>34900</td>\n",
              "      <td>24700</td>\n",
              "      <td>47033</td>\n",
              "    </tr>\n",
              "    <tr>\n",
              "      <th>loan_status</th>\n",
              "      <td>2</td>\n",
              "      <td>int64</td>\n",
              "      <td>0</td>\n",
              "      <td>0</td>\n",
              "      <td>0</td>\n",
              "      <td>0</td>\n",
              "      <td>0</td>\n",
              "    </tr>\n",
              "  </tbody>\n",
              "</table>\n",
              "</div>"
            ],
            "text/plain": [
              "                             0_nunique  ...                            4\n",
              "loan_amnt                         1370  ...                        16000\n",
              "funded_amnt                       1370  ...                        16000\n",
              "funded_amnt_inv                   6442  ...                        16000\n",
              "term                                 2  ...                    36 months\n",
              "batch_enrolled                     104  ...                   BAT2833642\n",
              "int_rate                           535  ...                        10.64\n",
              "grade                                7  ...                            B\n",
              "emp_title                       145843  ...  lausd-hollywood high school\n",
              "home_ownership                       6  ...                         RENT\n",
              "annual_inc                       33988  ...                        52000\n",
              "verification_status                  3  ...                     Verified\n",
              "pymnt_plan                           2  ...                            n\n",
              "desc                             70638  ...                          NaN\n",
              "purpose                             14  ...                  credit_card\n",
              "zip_code                           917  ...                        900xx\n",
              "addr_state                          51  ...                           CA\n",
              "dti                               4058  ...                        20.16\n",
              "delinq_2yrs                         26  ...                            0\n",
              "inq_last_6mths                      23  ...                            0\n",
              "mths_since_last_delinq             147  ...                          NaN\n",
              "mths_since_last_record             122  ...                          NaN\n",
              "open_acc                            73  ...                           11\n",
              "pub_rec                              2  ...                            0\n",
              "revol_bal                        63459  ...                        35835\n",
              "revol_util                        1265  ...                         76.2\n",
              "total_acc                          126  ...                           27\n",
              "initial_list_status                  2  ...                            w\n",
              "total_rec_int                   243149  ...                      2296.41\n",
              "total_rec_late_fee                4073  ...                            0\n",
              "recoveries                       14024  ...                            0\n",
              "collection_recovery_fee          12617  ...                            0\n",
              "collections_12_mths_ex_med           9  ...                            0\n",
              "mths_since_last_major_derog        162  ...                          NaN\n",
              "application_type                     2  ...                   INDIVIDUAL\n",
              "verification_status_joint            3  ...                          NaN\n",
              "last_week_pay                       98  ...                    96th week\n",
              "acc_now_delinq                       8  ...                            0\n",
              "tot_coll_amt                      8081  ...                            0\n",
              "tot_cur_bal                     251640  ...                        47159\n",
              "total_rev_hi_lim                 14697  ...                        47033\n",
              "loan_status                          2  ...                            0\n",
              "\n",
              "[41 rows x 7 columns]"
            ]
          },
          "metadata": {
            "tags": []
          },
          "execution_count": 39
        }
      ]
    },
    {
      "cell_type": "markdown",
      "metadata": {
        "id": "GQRMbZZNCgjX"
      },
      "source": [
        "Replacing funded amount and funded amount by investor by percentages for better interpretation."
      ]
    },
    {
      "cell_type": "code",
      "metadata": {
        "id": "8VHb5tVFvCra"
      },
      "source": [
        "train_df.rename(columns = {'funded_amnt':'funded_amnt(%)'}, inplace = True)\n",
        "train_df['funded_amnt(%)']=(train_df['funded_amnt(%)']/train_df['loan_amnt'])*100\n",
        "\n",
        "train_df.rename(columns = {'funded_amnt_inv':'funded_amnt_inv(%)'}, inplace = True)\n",
        "train_df['funded_amnt_inv(%)']=(train_df['funded_amnt_inv(%)']/train_df['loan_amnt'])*100\n"
      ],
      "execution_count": 40,
      "outputs": []
    },
    {
      "cell_type": "code",
      "metadata": {
        "id": "PBA4chBKwwvy"
      },
      "source": [
        "test_df.rename(columns = {'funded_amnt':'funded_amnt(%)'}, inplace = True)\n",
        "test_df['funded_amnt(%)']=(test_df['funded_amnt(%)']/test_df['loan_amnt'])*100\n",
        "\n",
        "test_df.rename(columns = {'funded_amnt_inv':'funded_amnt_inv(%)'}, inplace = True)\n",
        "test_df['funded_amnt_inv(%)']=(test_df['funded_amnt_inv(%)']/train_df['loan_amnt'])*100\n"
      ],
      "execution_count": 41,
      "outputs": []
    },
    {
      "cell_type": "markdown",
      "metadata": {
        "id": "PHzlXjpUC2R2"
      },
      "source": [
        "Converting term and last_week_pay to continous variables."
      ]
    },
    {
      "cell_type": "code",
      "metadata": {
        "id": "lCl9-8LugVNc"
      },
      "source": [
        "train_df['term']=(train_df['term'].str.replace(\" months\",\"\")).astype('float').astype('Int64')\n",
        "test_df['term']=(test_df['term'].str.replace(\" months\",\"\")).astype('float').astype('Int64')"
      ],
      "execution_count": 42,
      "outputs": []
    },
    {
      "cell_type": "code",
      "metadata": {
        "id": "GZ_1euIy8qyK"
      },
      "source": [
        "train_df['last_week_pay']=(train_df['last_week_pay'].str.replace(\"th week\",\"\"))\n",
        "train_df['last_week_pay']=(train_df['last_week_pay'].replace(\"NA\", np.nan))\n",
        "train_df['last_week_pay']=(train_df['last_week_pay']).astype('float').astype('Int64')\n",
        "\n",
        "test_df['last_week_pay']=(test_df['last_week_pay'].str.replace(\"th week\",\"\"))\n",
        "test_df['last_week_pay']=(test_df['last_week_pay'].replace(\"NA\", np.nan))\n",
        "test_df['last_week_pay']=(test_df['last_week_pay']).astype('float').astype('Int64')"
      ],
      "execution_count": 43,
      "outputs": []
    },
    {
      "cell_type": "code",
      "metadata": {
        "colab": {
          "base_uri": "https://localhost:8080/",
          "height": 390
        },
        "id": "llVvo6YJGy7Q",
        "outputId": "c255fd21-a60d-4bf2-f251-c3ad152cf1cc"
      },
      "source": [
        "train_df.head()"
      ],
      "execution_count": 44,
      "outputs": [
        {
          "output_type": "execute_result",
          "data": {
            "text/html": [
              "<div>\n",
              "<style scoped>\n",
              "    .dataframe tbody tr th:only-of-type {\n",
              "        vertical-align: middle;\n",
              "    }\n",
              "\n",
              "    .dataframe tbody tr th {\n",
              "        vertical-align: top;\n",
              "    }\n",
              "\n",
              "    .dataframe thead th {\n",
              "        text-align: right;\n",
              "    }\n",
              "</style>\n",
              "<table border=\"1\" class=\"dataframe\">\n",
              "  <thead>\n",
              "    <tr style=\"text-align: right;\">\n",
              "      <th></th>\n",
              "      <th>loan_amnt</th>\n",
              "      <th>funded_amnt(%)</th>\n",
              "      <th>funded_amnt_inv(%)</th>\n",
              "      <th>term</th>\n",
              "      <th>batch_enrolled</th>\n",
              "      <th>int_rate</th>\n",
              "      <th>grade</th>\n",
              "      <th>emp_title</th>\n",
              "      <th>home_ownership</th>\n",
              "      <th>annual_inc</th>\n",
              "      <th>verification_status</th>\n",
              "      <th>pymnt_plan</th>\n",
              "      <th>desc</th>\n",
              "      <th>purpose</th>\n",
              "      <th>zip_code</th>\n",
              "      <th>addr_state</th>\n",
              "      <th>dti</th>\n",
              "      <th>delinq_2yrs</th>\n",
              "      <th>inq_last_6mths</th>\n",
              "      <th>mths_since_last_delinq</th>\n",
              "      <th>mths_since_last_record</th>\n",
              "      <th>open_acc</th>\n",
              "      <th>pub_rec</th>\n",
              "      <th>revol_bal</th>\n",
              "      <th>revol_util</th>\n",
              "      <th>total_acc</th>\n",
              "      <th>initial_list_status</th>\n",
              "      <th>total_rec_int</th>\n",
              "      <th>total_rec_late_fee</th>\n",
              "      <th>recoveries</th>\n",
              "      <th>collection_recovery_fee</th>\n",
              "      <th>collections_12_mths_ex_med</th>\n",
              "      <th>mths_since_last_major_derog</th>\n",
              "      <th>application_type</th>\n",
              "      <th>verification_status_joint</th>\n",
              "      <th>last_week_pay</th>\n",
              "      <th>acc_now_delinq</th>\n",
              "      <th>tot_coll_amt</th>\n",
              "      <th>tot_cur_bal</th>\n",
              "      <th>total_rev_hi_lim</th>\n",
              "      <th>loan_status</th>\n",
              "    </tr>\n",
              "  </thead>\n",
              "  <tbody>\n",
              "    <tr>\n",
              "      <th>0</th>\n",
              "      <td>14350</td>\n",
              "      <td>100.0</td>\n",
              "      <td>100.0</td>\n",
              "      <td>36</td>\n",
              "      <td></td>\n",
              "      <td>19.19</td>\n",
              "      <td>E</td>\n",
              "      <td>clerk</td>\n",
              "      <td>OWN</td>\n",
              "      <td>28700.0</td>\n",
              "      <td>Source Verified</td>\n",
              "      <td>n</td>\n",
              "      <td>NaN</td>\n",
              "      <td>debt_consolidation</td>\n",
              "      <td>349xx</td>\n",
              "      <td>FL</td>\n",
              "      <td>33.88</td>\n",
              "      <td>0.0</td>\n",
              "      <td>1.0</td>\n",
              "      <td>50.0</td>\n",
              "      <td>75.0</td>\n",
              "      <td>14.0</td>\n",
              "      <td>1</td>\n",
              "      <td>22515.0</td>\n",
              "      <td>73.1</td>\n",
              "      <td>28.0</td>\n",
              "      <td>f</td>\n",
              "      <td>1173.84</td>\n",
              "      <td>0.0</td>\n",
              "      <td>0.0</td>\n",
              "      <td>0.0</td>\n",
              "      <td>0.0</td>\n",
              "      <td>74.0</td>\n",
              "      <td>INDIVIDUAL</td>\n",
              "      <td>NaN</td>\n",
              "      <td>26</td>\n",
              "      <td>0.0</td>\n",
              "      <td>0.0</td>\n",
              "      <td>28699.0</td>\n",
              "      <td>30800.0</td>\n",
              "      <td>0</td>\n",
              "    </tr>\n",
              "    <tr>\n",
              "      <th>1</th>\n",
              "      <td>4800</td>\n",
              "      <td>100.0</td>\n",
              "      <td>100.0</td>\n",
              "      <td>36</td>\n",
              "      <td>BAT1586599</td>\n",
              "      <td>10.99</td>\n",
              "      <td>B</td>\n",
              "      <td>human resources specialist</td>\n",
              "      <td>MORTGAGE</td>\n",
              "      <td>65000.0</td>\n",
              "      <td>Source Verified</td>\n",
              "      <td>n</td>\n",
              "      <td>NaN</td>\n",
              "      <td>home_improvement</td>\n",
              "      <td>209xx</td>\n",
              "      <td>MD</td>\n",
              "      <td>3.64</td>\n",
              "      <td>0.0</td>\n",
              "      <td>1.0</td>\n",
              "      <td>NaN</td>\n",
              "      <td>NaN</td>\n",
              "      <td>6.0</td>\n",
              "      <td>0</td>\n",
              "      <td>7624.0</td>\n",
              "      <td>23.2</td>\n",
              "      <td>13.0</td>\n",
              "      <td>w</td>\n",
              "      <td>83.95</td>\n",
              "      <td>0.0</td>\n",
              "      <td>0.0</td>\n",
              "      <td>0.0</td>\n",
              "      <td>0.0</td>\n",
              "      <td>NaN</td>\n",
              "      <td>INDIVIDUAL</td>\n",
              "      <td>NaN</td>\n",
              "      <td>9</td>\n",
              "      <td>0.0</td>\n",
              "      <td>0.0</td>\n",
              "      <td>9974.0</td>\n",
              "      <td>32900.0</td>\n",
              "      <td>0</td>\n",
              "    </tr>\n",
              "    <tr>\n",
              "      <th>2</th>\n",
              "      <td>10000</td>\n",
              "      <td>100.0</td>\n",
              "      <td>100.0</td>\n",
              "      <td>36</td>\n",
              "      <td>BAT1586599</td>\n",
              "      <td>7.26</td>\n",
              "      <td>A</td>\n",
              "      <td>driver</td>\n",
              "      <td>OWN</td>\n",
              "      <td>45000.0</td>\n",
              "      <td>Not Verified</td>\n",
              "      <td>n</td>\n",
              "      <td>NaN</td>\n",
              "      <td>debt_consolidation</td>\n",
              "      <td>447xx</td>\n",
              "      <td>OH</td>\n",
              "      <td>18.42</td>\n",
              "      <td>0.0</td>\n",
              "      <td>0.0</td>\n",
              "      <td>NaN</td>\n",
              "      <td>NaN</td>\n",
              "      <td>5.0</td>\n",
              "      <td>0</td>\n",
              "      <td>10877.0</td>\n",
              "      <td>31.2</td>\n",
              "      <td>19.0</td>\n",
              "      <td>w</td>\n",
              "      <td>56.47</td>\n",
              "      <td>0.0</td>\n",
              "      <td>0.0</td>\n",
              "      <td>0.0</td>\n",
              "      <td>0.0</td>\n",
              "      <td>NaN</td>\n",
              "      <td>INDIVIDUAL</td>\n",
              "      <td>NaN</td>\n",
              "      <td>9</td>\n",
              "      <td>0.0</td>\n",
              "      <td>65.0</td>\n",
              "      <td>38295.0</td>\n",
              "      <td>34900.0</td>\n",
              "      <td>0</td>\n",
              "    </tr>\n",
              "    <tr>\n",
              "      <th>3</th>\n",
              "      <td>15000</td>\n",
              "      <td>100.0</td>\n",
              "      <td>100.0</td>\n",
              "      <td>36</td>\n",
              "      <td>BAT4808022</td>\n",
              "      <td>19.72</td>\n",
              "      <td>D</td>\n",
              "      <td>us office of personnel management</td>\n",
              "      <td>RENT</td>\n",
              "      <td>105000.0</td>\n",
              "      <td>Not Verified</td>\n",
              "      <td>n</td>\n",
              "      <td>&gt; My goal is to obtain a loan to pay off my hi...</td>\n",
              "      <td>debt_consolidation</td>\n",
              "      <td>221xx</td>\n",
              "      <td>VA</td>\n",
              "      <td>14.97</td>\n",
              "      <td>0.0</td>\n",
              "      <td>2.0</td>\n",
              "      <td>46.0</td>\n",
              "      <td>NaN</td>\n",
              "      <td>10.0</td>\n",
              "      <td>0</td>\n",
              "      <td>13712.0</td>\n",
              "      <td>55.5</td>\n",
              "      <td>21.0</td>\n",
              "      <td>f</td>\n",
              "      <td>4858.62</td>\n",
              "      <td>0.0</td>\n",
              "      <td>0.0</td>\n",
              "      <td>0.0</td>\n",
              "      <td>0.0</td>\n",
              "      <td>NaN</td>\n",
              "      <td>INDIVIDUAL</td>\n",
              "      <td>NaN</td>\n",
              "      <td>135</td>\n",
              "      <td>0.0</td>\n",
              "      <td>0.0</td>\n",
              "      <td>55564.0</td>\n",
              "      <td>24700.0</td>\n",
              "      <td>0</td>\n",
              "    </tr>\n",
              "    <tr>\n",
              "      <th>4</th>\n",
              "      <td>16000</td>\n",
              "      <td>100.0</td>\n",
              "      <td>100.0</td>\n",
              "      <td>36</td>\n",
              "      <td>BAT2833642</td>\n",
              "      <td>10.64</td>\n",
              "      <td>B</td>\n",
              "      <td>lausd-hollywood high school</td>\n",
              "      <td>RENT</td>\n",
              "      <td>52000.0</td>\n",
              "      <td>Verified</td>\n",
              "      <td>n</td>\n",
              "      <td>NaN</td>\n",
              "      <td>credit_card</td>\n",
              "      <td>900xx</td>\n",
              "      <td>CA</td>\n",
              "      <td>20.16</td>\n",
              "      <td>0.0</td>\n",
              "      <td>0.0</td>\n",
              "      <td>NaN</td>\n",
              "      <td>NaN</td>\n",
              "      <td>11.0</td>\n",
              "      <td>0</td>\n",
              "      <td>35835.0</td>\n",
              "      <td>76.2</td>\n",
              "      <td>27.0</td>\n",
              "      <td>w</td>\n",
              "      <td>2296.41</td>\n",
              "      <td>0.0</td>\n",
              "      <td>0.0</td>\n",
              "      <td>0.0</td>\n",
              "      <td>0.0</td>\n",
              "      <td>NaN</td>\n",
              "      <td>INDIVIDUAL</td>\n",
              "      <td>NaN</td>\n",
              "      <td>96</td>\n",
              "      <td>0.0</td>\n",
              "      <td>0.0</td>\n",
              "      <td>47159.0</td>\n",
              "      <td>47033.0</td>\n",
              "      <td>0</td>\n",
              "    </tr>\n",
              "  </tbody>\n",
              "</table>\n",
              "</div>"
            ],
            "text/plain": [
              "   loan_amnt  funded_amnt(%)  ...  total_rev_hi_lim  loan_status\n",
              "0      14350           100.0  ...           30800.0            0\n",
              "1       4800           100.0  ...           32900.0            0\n",
              "2      10000           100.0  ...           34900.0            0\n",
              "3      15000           100.0  ...           24700.0            0\n",
              "4      16000           100.0  ...           47033.0            0\n",
              "\n",
              "[5 rows x 41 columns]"
            ]
          },
          "metadata": {
            "tags": []
          },
          "execution_count": 44
        }
      ]
    },
    {
      "cell_type": "markdown",
      "metadata": {
        "id": "QGQDbjflDQNs"
      },
      "source": [
        "Since ZIP Codes are encoded in such way that if difference in starting digits of ZIP are less, they would be nearer to wach other.\n",
        "https://upload.wikimedia.org/wikipedia/commons/thumb/2/24/ZIP_Code_zones.svg/1024px-ZIP_Code_zones.svg.png\n",
        "So, I converted ZIP Code to continous variable"
      ]
    },
    {
      "cell_type": "code",
      "metadata": {
        "id": "asiqVqfhDg3K"
      },
      "source": [
        "train_df['zip_code']=(train_df['zip_code'].str.replace(\"xx\",\"\")).astype('float').astype('Int64')\n",
        "test_df['zip_code']=(test_df['zip_code'].str.replace(\"xx\",\"\")).astype('float').astype('Int64')"
      ],
      "execution_count": 45,
      "outputs": []
    },
    {
      "cell_type": "code",
      "metadata": {
        "colab": {
          "base_uri": "https://localhost:8080/"
        },
        "id": "gJu2Ju2iKMel",
        "outputId": "5a578b72-4c2e-4e45-fb07-a1f6737d145b"
      },
      "source": [
        "train_df['batch_enrolled'].value_counts()"
      ],
      "execution_count": 46,
      "outputs": [
        {
          "output_type": "execute_result",
          "data": {
            "text/plain": [
              "              106079\n",
              "BAT2252229     18791\n",
              "BAT3873588     17839\n",
              "BAT2803411     17111\n",
              "BAT2078974     14859\n",
              "               ...  \n",
              "BAT4347689        30\n",
              "BAT4884699        29\n",
              "BAT5869156        26\n",
              "BAT5077496        18\n",
              "BAT2331079        13\n",
              "Name: batch_enrolled, Length: 104, dtype: int64"
            ]
          },
          "metadata": {
            "tags": []
          },
          "execution_count": 46
        }
      ]
    },
    {
      "cell_type": "code",
      "metadata": {
        "id": "pI5_dfTEKbBk"
      },
      "source": [
        "train_df['batch_enrolled']=((train_df['batch_enrolled']).str.strip()).replace('', np.nan)\n",
        "test_df['batch_enrolled']=((test_df['batch_enrolled']).str.strip()).replace('', np.nan)"
      ],
      "execution_count": 47,
      "outputs": []
    },
    {
      "cell_type": "markdown",
      "metadata": {
        "id": "T-HHhFVWoF-2"
      },
      "source": [
        "# **Null value computation**"
      ]
    },
    {
      "cell_type": "code",
      "metadata": {
        "colab": {
          "base_uri": "https://localhost:8080/",
          "height": 641
        },
        "id": "V1IMvvw7QtU2",
        "outputId": "0374e691-07d1-4bc9-8e6a-decdf3b00bb2"
      },
      "source": [
        "msno.matrix(train_df)"
      ],
      "execution_count": 48,
      "outputs": [
        {
          "output_type": "execute_result",
          "data": {
            "text/plain": [
              "<matplotlib.axes._subplots.AxesSubplot at 0x7f9cd4001650>"
            ]
          },
          "metadata": {
            "tags": []
          },
          "execution_count": 48
        },
        {
          "output_type": "display_data",
          "data": {
            "image/png": "[encoded data removed]",
            "text/plain": [
              "<Figure size 1800x720 with 2 Axes>"
            ]
          },
          "metadata": {
            "tags": [],
            "needs_background": "light"
          }
        }
      ]
    },
    {
      "cell_type": "code",
      "metadata": {
        "id": "v0LPd7J73E33"
      },
      "source": [
        "def compute_null(df):  \n",
        "  missing_df=pd.DataFrame()\n",
        "  missing_df['missing_count']= df.isnull().sum()\n",
        "  missing_df['missing_percent(%)']=(missing_df['missing_count']/df.shape[0])*100\n",
        "  missing_df=missing_df.join(nunique_dtypes(df))\n",
        "  missing_df=missing_df[missing_df['missing_percent(%)']!=0]\n",
        "  return (missing_df.sort_values(by=['missing_percent(%)'],ascending=False))"
      ],
      "execution_count": 49,
      "outputs": []
    },
    {
      "cell_type": "code",
      "metadata": {
        "colab": {
          "base_uri": "https://localhost:8080/",
          "height": 610
        },
        "id": "09sNHyZRkkfM",
        "outputId": "cfb2722a-38e7-40d0-f522-f5291a16375f"
      },
      "source": [
        "print(\"***********Train_df************\")\n",
        "compute_null(train_df)"
      ],
      "execution_count": 50,
      "outputs": [
        {
          "output_type": "stream",
          "text": [
            "***********Train_df************\n"
          ],
          "name": "stdout"
        },
        {
          "output_type": "execute_result",
          "data": {
            "text/html": [
              "<div>\n",
              "<style scoped>\n",
              "    .dataframe tbody tr th:only-of-type {\n",
              "        vertical-align: middle;\n",
              "    }\n",
              "\n",
              "    .dataframe tbody tr th {\n",
              "        vertical-align: top;\n",
              "    }\n",
              "\n",
              "    .dataframe thead th {\n",
              "        text-align: right;\n",
              "    }\n",
              "</style>\n",
              "<table border=\"1\" class=\"dataframe\">\n",
              "  <thead>\n",
              "    <tr style=\"text-align: right;\">\n",
              "      <th></th>\n",
              "      <th>missing_count</th>\n",
              "      <th>missing_percent(%)</th>\n",
              "      <th>0_nunique</th>\n",
              "      <th>0_dtype</th>\n",
              "    </tr>\n",
              "  </thead>\n",
              "  <tbody>\n",
              "    <tr>\n",
              "      <th>verification_status_joint</th>\n",
              "      <td>532123</td>\n",
              "      <td>99.942715</td>\n",
              "      <td>3</td>\n",
              "      <td>object</td>\n",
              "    </tr>\n",
              "    <tr>\n",
              "      <th>desc</th>\n",
              "      <td>456829</td>\n",
              "      <td>85.801085</td>\n",
              "      <td>70638</td>\n",
              "      <td>object</td>\n",
              "    </tr>\n",
              "    <tr>\n",
              "      <th>mths_since_last_record</th>\n",
              "      <td>450305</td>\n",
              "      <td>84.575755</td>\n",
              "      <td>122</td>\n",
              "      <td>float64</td>\n",
              "    </tr>\n",
              "    <tr>\n",
              "      <th>mths_since_last_major_derog</th>\n",
              "      <td>399448</td>\n",
              "      <td>75.023853</td>\n",
              "      <td>162</td>\n",
              "      <td>float64</td>\n",
              "    </tr>\n",
              "    <tr>\n",
              "      <th>mths_since_last_delinq</th>\n",
              "      <td>272554</td>\n",
              "      <td>51.190771</td>\n",
              "      <td>147</td>\n",
              "      <td>float64</td>\n",
              "    </tr>\n",
              "    <tr>\n",
              "      <th>batch_enrolled</th>\n",
              "      <td>191228</td>\n",
              "      <td>35.916218</td>\n",
              "      <td>103</td>\n",
              "      <td>object</td>\n",
              "    </tr>\n",
              "    <tr>\n",
              "      <th>tot_cur_bal</th>\n",
              "      <td>42004</td>\n",
              "      <td>7.889142</td>\n",
              "      <td>251640</td>\n",
              "      <td>float64</td>\n",
              "    </tr>\n",
              "    <tr>\n",
              "      <th>tot_coll_amt</th>\n",
              "      <td>42004</td>\n",
              "      <td>7.889142</td>\n",
              "      <td>8081</td>\n",
              "      <td>float64</td>\n",
              "    </tr>\n",
              "    <tr>\n",
              "      <th>total_rev_hi_lim</th>\n",
              "      <td>42004</td>\n",
              "      <td>7.889142</td>\n",
              "      <td>14697</td>\n",
              "      <td>float64</td>\n",
              "    </tr>\n",
              "    <tr>\n",
              "      <th>emp_title</th>\n",
              "      <td>30833</td>\n",
              "      <td>5.791018</td>\n",
              "      <td>145843</td>\n",
              "      <td>object</td>\n",
              "    </tr>\n",
              "    <tr>\n",
              "      <th>last_week_pay</th>\n",
              "      <td>10614</td>\n",
              "      <td>1.993509</td>\n",
              "      <td>97</td>\n",
              "      <td>Int64</td>\n",
              "    </tr>\n",
              "    <tr>\n",
              "      <th>revol_util</th>\n",
              "      <td>287</td>\n",
              "      <td>0.053904</td>\n",
              "      <td>1265</td>\n",
              "      <td>float64</td>\n",
              "    </tr>\n",
              "    <tr>\n",
              "      <th>collections_12_mths_ex_med</th>\n",
              "      <td>95</td>\n",
              "      <td>0.017843</td>\n",
              "      <td>9</td>\n",
              "      <td>float64</td>\n",
              "    </tr>\n",
              "    <tr>\n",
              "      <th>total_acc</th>\n",
              "      <td>16</td>\n",
              "      <td>0.003005</td>\n",
              "      <td>126</td>\n",
              "      <td>float64</td>\n",
              "    </tr>\n",
              "    <tr>\n",
              "      <th>open_acc</th>\n",
              "      <td>16</td>\n",
              "      <td>0.003005</td>\n",
              "      <td>73</td>\n",
              "      <td>float64</td>\n",
              "    </tr>\n",
              "    <tr>\n",
              "      <th>inq_last_6mths</th>\n",
              "      <td>16</td>\n",
              "      <td>0.003005</td>\n",
              "      <td>23</td>\n",
              "      <td>float64</td>\n",
              "    </tr>\n",
              "    <tr>\n",
              "      <th>acc_now_delinq</th>\n",
              "      <td>16</td>\n",
              "      <td>0.003005</td>\n",
              "      <td>8</td>\n",
              "      <td>float64</td>\n",
              "    </tr>\n",
              "    <tr>\n",
              "      <th>delinq_2yrs</th>\n",
              "      <td>16</td>\n",
              "      <td>0.003005</td>\n",
              "      <td>26</td>\n",
              "      <td>float64</td>\n",
              "    </tr>\n",
              "    <tr>\n",
              "      <th>annual_inc</th>\n",
              "      <td>3</td>\n",
              "      <td>0.000563</td>\n",
              "      <td>33988</td>\n",
              "      <td>float64</td>\n",
              "    </tr>\n",
              "  </tbody>\n",
              "</table>\n",
              "</div>"
            ],
            "text/plain": [
              "                             missing_count  ...  0_dtype\n",
              "verification_status_joint           532123  ...   object\n",
              "desc                                456829  ...   object\n",
              "mths_since_last_record              450305  ...  float64\n",
              "mths_since_last_major_derog         399448  ...  float64\n",
              "mths_since_last_delinq              272554  ...  float64\n",
              "batch_enrolled                      191228  ...   object\n",
              "tot_cur_bal                          42004  ...  float64\n",
              "tot_coll_amt                         42004  ...  float64\n",
              "total_rev_hi_lim                     42004  ...  float64\n",
              "emp_title                            30833  ...   object\n",
              "last_week_pay                        10614  ...    Int64\n",
              "revol_util                             287  ...  float64\n",
              "collections_12_mths_ex_med              95  ...  float64\n",
              "total_acc                               16  ...  float64\n",
              "open_acc                                16  ...  float64\n",
              "inq_last_6mths                          16  ...  float64\n",
              "acc_now_delinq                          16  ...  float64\n",
              "delinq_2yrs                             16  ...  float64\n",
              "annual_inc                               3  ...  float64\n",
              "\n",
              "[19 rows x 4 columns]"
            ]
          },
          "metadata": {
            "tags": []
          },
          "execution_count": 50
        }
      ]
    },
    {
      "cell_type": "code",
      "metadata": {
        "colab": {
          "base_uri": "https://localhost:8080/",
          "height": 638
        },
        "id": "D35UKKDBH7OO",
        "outputId": "52be05f9-1f92-4d42-d864-5551082d447f"
      },
      "source": [
        "print(\"***********Test_df*************\")\n",
        "compute_null(test_df)"
      ],
      "execution_count": 51,
      "outputs": [
        {
          "output_type": "stream",
          "text": [
            "***********Test_df*************\n"
          ],
          "name": "stdout"
        },
        {
          "output_type": "execute_result",
          "data": {
            "text/html": [
              "<div>\n",
              "<style scoped>\n",
              "    .dataframe tbody tr th:only-of-type {\n",
              "        vertical-align: middle;\n",
              "    }\n",
              "\n",
              "    .dataframe tbody tr th {\n",
              "        vertical-align: top;\n",
              "    }\n",
              "\n",
              "    .dataframe thead th {\n",
              "        text-align: right;\n",
              "    }\n",
              "</style>\n",
              "<table border=\"1\" class=\"dataframe\">\n",
              "  <thead>\n",
              "    <tr style=\"text-align: right;\">\n",
              "      <th></th>\n",
              "      <th>missing_count</th>\n",
              "      <th>missing_percent(%)</th>\n",
              "      <th>0_nunique</th>\n",
              "      <th>0_dtype</th>\n",
              "    </tr>\n",
              "  </thead>\n",
              "  <tbody>\n",
              "    <tr>\n",
              "      <th>verification_status_joint</th>\n",
              "      <td>354745</td>\n",
              "      <td>99.941964</td>\n",
              "      <td>3</td>\n",
              "      <td>object</td>\n",
              "    </tr>\n",
              "    <tr>\n",
              "      <th>desc</th>\n",
              "      <td>304770</td>\n",
              "      <td>85.862556</td>\n",
              "      <td>47101</td>\n",
              "      <td>object</td>\n",
              "    </tr>\n",
              "    <tr>\n",
              "      <th>mths_since_last_record</th>\n",
              "      <td>300021</td>\n",
              "      <td>84.524625</td>\n",
              "      <td>122</td>\n",
              "      <td>float64</td>\n",
              "    </tr>\n",
              "    <tr>\n",
              "      <th>mths_since_last_major_derog</th>\n",
              "      <td>266228</td>\n",
              "      <td>75.004156</td>\n",
              "      <td>162</td>\n",
              "      <td>float64</td>\n",
              "    </tr>\n",
              "    <tr>\n",
              "      <th>mths_since_last_delinq</th>\n",
              "      <td>181758</td>\n",
              "      <td>51.206505</td>\n",
              "      <td>135</td>\n",
              "      <td>float64</td>\n",
              "    </tr>\n",
              "    <tr>\n",
              "      <th>batch_enrolled</th>\n",
              "      <td>173607</td>\n",
              "      <td>48.910131</td>\n",
              "      <td>103</td>\n",
              "      <td>object</td>\n",
              "    </tr>\n",
              "    <tr>\n",
              "      <th>tot_cur_bal</th>\n",
              "      <td>28272</td>\n",
              "      <td>7.965043</td>\n",
              "      <td>196438</td>\n",
              "      <td>float64</td>\n",
              "    </tr>\n",
              "    <tr>\n",
              "      <th>tot_coll_amt</th>\n",
              "      <td>28272</td>\n",
              "      <td>7.965043</td>\n",
              "      <td>6610</td>\n",
              "      <td>float64</td>\n",
              "    </tr>\n",
              "    <tr>\n",
              "      <th>total_rev_hi_lim</th>\n",
              "      <td>28272</td>\n",
              "      <td>7.965043</td>\n",
              "      <td>10841</td>\n",
              "      <td>float64</td>\n",
              "    </tr>\n",
              "    <tr>\n",
              "      <th>emp_title</th>\n",
              "      <td>20629</td>\n",
              "      <td>5.811788</td>\n",
              "      <td>135102</td>\n",
              "      <td>object</td>\n",
              "    </tr>\n",
              "    <tr>\n",
              "      <th>last_week_pay</th>\n",
              "      <td>7045</td>\n",
              "      <td>1.984781</td>\n",
              "      <td>92</td>\n",
              "      <td>Int64</td>\n",
              "    </tr>\n",
              "    <tr>\n",
              "      <th>revol_util</th>\n",
              "      <td>215</td>\n",
              "      <td>0.060572</td>\n",
              "      <td>1220</td>\n",
              "      <td>float64</td>\n",
              "    </tr>\n",
              "    <tr>\n",
              "      <th>collections_12_mths_ex_med</th>\n",
              "      <td>50</td>\n",
              "      <td>0.014086</td>\n",
              "      <td>9</td>\n",
              "      <td>float64</td>\n",
              "    </tr>\n",
              "    <tr>\n",
              "      <th>pub_rec</th>\n",
              "      <td>13</td>\n",
              "      <td>0.003662</td>\n",
              "      <td>24</td>\n",
              "      <td>float64</td>\n",
              "    </tr>\n",
              "    <tr>\n",
              "      <th>total_acc</th>\n",
              "      <td>13</td>\n",
              "      <td>0.003662</td>\n",
              "      <td>118</td>\n",
              "      <td>float64</td>\n",
              "    </tr>\n",
              "    <tr>\n",
              "      <th>open_acc</th>\n",
              "      <td>13</td>\n",
              "      <td>0.003662</td>\n",
              "      <td>65</td>\n",
              "      <td>float64</td>\n",
              "    </tr>\n",
              "    <tr>\n",
              "      <th>inq_last_6mths</th>\n",
              "      <td>13</td>\n",
              "      <td>0.003662</td>\n",
              "      <td>24</td>\n",
              "      <td>float64</td>\n",
              "    </tr>\n",
              "    <tr>\n",
              "      <th>acc_now_delinq</th>\n",
              "      <td>13</td>\n",
              "      <td>0.003662</td>\n",
              "      <td>6</td>\n",
              "      <td>float64</td>\n",
              "    </tr>\n",
              "    <tr>\n",
              "      <th>delinq_2yrs</th>\n",
              "      <td>13</td>\n",
              "      <td>0.003662</td>\n",
              "      <td>25</td>\n",
              "      <td>float64</td>\n",
              "    </tr>\n",
              "    <tr>\n",
              "      <th>annual_inc</th>\n",
              "      <td>1</td>\n",
              "      <td>0.000282</td>\n",
              "      <td>25034</td>\n",
              "      <td>float64</td>\n",
              "    </tr>\n",
              "  </tbody>\n",
              "</table>\n",
              "</div>"
            ],
            "text/plain": [
              "                             missing_count  ...  0_dtype\n",
              "verification_status_joint           354745  ...   object\n",
              "desc                                304770  ...   object\n",
              "mths_since_last_record              300021  ...  float64\n",
              "mths_since_last_major_derog         266228  ...  float64\n",
              "mths_since_last_delinq              181758  ...  float64\n",
              "batch_enrolled                      173607  ...   object\n",
              "tot_cur_bal                          28272  ...  float64\n",
              "tot_coll_amt                         28272  ...  float64\n",
              "total_rev_hi_lim                     28272  ...  float64\n",
              "emp_title                            20629  ...   object\n",
              "last_week_pay                         7045  ...    Int64\n",
              "revol_util                             215  ...  float64\n",
              "collections_12_mths_ex_med              50  ...  float64\n",
              "pub_rec                                 13  ...  float64\n",
              "total_acc                               13  ...  float64\n",
              "open_acc                                13  ...  float64\n",
              "inq_last_6mths                          13  ...  float64\n",
              "acc_now_delinq                          13  ...  float64\n",
              "delinq_2yrs                             13  ...  float64\n",
              "annual_inc                               1  ...  float64\n",
              "\n",
              "[20 rows x 4 columns]"
            ]
          },
          "metadata": {
            "tags": []
          },
          "execution_count": 51
        }
      ]
    },
    {
      "cell_type": "markdown",
      "metadata": {
        "id": "dWKUi8saEgDP"
      },
      "source": [
        "Dropping columns with greater than 30 percent null values"
      ]
    },
    {
      "cell_type": "code",
      "metadata": {
        "id": "fWefJEQKj5yP"
      },
      "source": [
        "more_than_30_null_columns=compute_null(train_df)[(compute_null(train_df)['missing_percent(%)'])>30].index"
      ],
      "execution_count": 52,
      "outputs": []
    },
    {
      "cell_type": "code",
      "metadata": {
        "id": "h7ejGG7Pvins"
      },
      "source": [
        "train_df.drop(more_than_30_null_columns, axis=1, inplace=True)\n",
        "test_df.drop(more_than_30_null_columns, axis=1, inplace=True)"
      ],
      "execution_count": 53,
      "outputs": []
    },
    {
      "cell_type": "code",
      "metadata": {
        "colab": {
          "base_uri": "https://localhost:8080/",
          "height": 437
        },
        "id": "JsY3ASTt7iX4",
        "outputId": "e81913b1-8a62-40ae-9d9e-30a766d7b48f"
      },
      "source": [
        "print(\"***********Train_df************\")\n",
        "compute_null(train_df)"
      ],
      "execution_count": 54,
      "outputs": [
        {
          "output_type": "stream",
          "text": [
            "***********Train_df************\n"
          ],
          "name": "stdout"
        },
        {
          "output_type": "execute_result",
          "data": {
            "text/html": [
              "<div>\n",
              "<style scoped>\n",
              "    .dataframe tbody tr th:only-of-type {\n",
              "        vertical-align: middle;\n",
              "    }\n",
              "\n",
              "    .dataframe tbody tr th {\n",
              "        vertical-align: top;\n",
              "    }\n",
              "\n",
              "    .dataframe thead th {\n",
              "        text-align: right;\n",
              "    }\n",
              "</style>\n",
              "<table border=\"1\" class=\"dataframe\">\n",
              "  <thead>\n",
              "    <tr style=\"text-align: right;\">\n",
              "      <th></th>\n",
              "      <th>missing_count</th>\n",
              "      <th>missing_percent(%)</th>\n",
              "      <th>0_nunique</th>\n",
              "      <th>0_dtype</th>\n",
              "    </tr>\n",
              "  </thead>\n",
              "  <tbody>\n",
              "    <tr>\n",
              "      <th>tot_coll_amt</th>\n",
              "      <td>42004</td>\n",
              "      <td>7.889142</td>\n",
              "      <td>8081</td>\n",
              "      <td>float64</td>\n",
              "    </tr>\n",
              "    <tr>\n",
              "      <th>tot_cur_bal</th>\n",
              "      <td>42004</td>\n",
              "      <td>7.889142</td>\n",
              "      <td>251640</td>\n",
              "      <td>float64</td>\n",
              "    </tr>\n",
              "    <tr>\n",
              "      <th>total_rev_hi_lim</th>\n",
              "      <td>42004</td>\n",
              "      <td>7.889142</td>\n",
              "      <td>14697</td>\n",
              "      <td>float64</td>\n",
              "    </tr>\n",
              "    <tr>\n",
              "      <th>emp_title</th>\n",
              "      <td>30833</td>\n",
              "      <td>5.791018</td>\n",
              "      <td>145843</td>\n",
              "      <td>object</td>\n",
              "    </tr>\n",
              "    <tr>\n",
              "      <th>last_week_pay</th>\n",
              "      <td>10614</td>\n",
              "      <td>1.993509</td>\n",
              "      <td>97</td>\n",
              "      <td>Int64</td>\n",
              "    </tr>\n",
              "    <tr>\n",
              "      <th>revol_util</th>\n",
              "      <td>287</td>\n",
              "      <td>0.053904</td>\n",
              "      <td>1265</td>\n",
              "      <td>float64</td>\n",
              "    </tr>\n",
              "    <tr>\n",
              "      <th>collections_12_mths_ex_med</th>\n",
              "      <td>95</td>\n",
              "      <td>0.017843</td>\n",
              "      <td>9</td>\n",
              "      <td>float64</td>\n",
              "    </tr>\n",
              "    <tr>\n",
              "      <th>delinq_2yrs</th>\n",
              "      <td>16</td>\n",
              "      <td>0.003005</td>\n",
              "      <td>26</td>\n",
              "      <td>float64</td>\n",
              "    </tr>\n",
              "    <tr>\n",
              "      <th>inq_last_6mths</th>\n",
              "      <td>16</td>\n",
              "      <td>0.003005</td>\n",
              "      <td>23</td>\n",
              "      <td>float64</td>\n",
              "    </tr>\n",
              "    <tr>\n",
              "      <th>open_acc</th>\n",
              "      <td>16</td>\n",
              "      <td>0.003005</td>\n",
              "      <td>73</td>\n",
              "      <td>float64</td>\n",
              "    </tr>\n",
              "    <tr>\n",
              "      <th>total_acc</th>\n",
              "      <td>16</td>\n",
              "      <td>0.003005</td>\n",
              "      <td>126</td>\n",
              "      <td>float64</td>\n",
              "    </tr>\n",
              "    <tr>\n",
              "      <th>acc_now_delinq</th>\n",
              "      <td>16</td>\n",
              "      <td>0.003005</td>\n",
              "      <td>8</td>\n",
              "      <td>float64</td>\n",
              "    </tr>\n",
              "    <tr>\n",
              "      <th>annual_inc</th>\n",
              "      <td>3</td>\n",
              "      <td>0.000563</td>\n",
              "      <td>33988</td>\n",
              "      <td>float64</td>\n",
              "    </tr>\n",
              "  </tbody>\n",
              "</table>\n",
              "</div>"
            ],
            "text/plain": [
              "                            missing_count  ...  0_dtype\n",
              "tot_coll_amt                        42004  ...  float64\n",
              "tot_cur_bal                         42004  ...  float64\n",
              "total_rev_hi_lim                    42004  ...  float64\n",
              "emp_title                           30833  ...   object\n",
              "last_week_pay                       10614  ...    Int64\n",
              "revol_util                            287  ...  float64\n",
              "collections_12_mths_ex_med             95  ...  float64\n",
              "delinq_2yrs                            16  ...  float64\n",
              "inq_last_6mths                         16  ...  float64\n",
              "open_acc                               16  ...  float64\n",
              "total_acc                              16  ...  float64\n",
              "acc_now_delinq                         16  ...  float64\n",
              "annual_inc                              3  ...  float64\n",
              "\n",
              "[13 rows x 4 columns]"
            ]
          },
          "metadata": {
            "tags": []
          },
          "execution_count": 54
        }
      ]
    },
    {
      "cell_type": "code",
      "metadata": {
        "id": "A97r_arBGAVN"
      },
      "source": [
        "# less_1_percent=list(compute_null(train_df)[(compute_null(train_df)['missing_percent(%)']<1)].index)\n",
        "# train_df=train_df.dropna(subset=less_1_percent)\n",
        "# train_df.reset_index(inplace=True,drop=True)\n",
        "# test_df=test_df.dropna(subset=less_1_percent)\n",
        "# test_df.reset_index(inplace=True,drop=True)"
      ],
      "execution_count": 55,
      "outputs": []
    },
    {
      "cell_type": "code",
      "metadata": {
        "id": "MTTVpIsM8jSv"
      },
      "source": [
        "numerical_features=(list(train_df._get_numeric_data().columns))\n",
        "categorical_features=list(set(train_df.columns)-set(numerical_features))"
      ],
      "execution_count": 56,
      "outputs": []
    },
    {
      "cell_type": "code",
      "metadata": {
        "id": "O-o_R6GlJ_cH"
      },
      "source": [
        "numerical_features.remove('loan_status')"
      ],
      "execution_count": 57,
      "outputs": []
    },
    {
      "cell_type": "code",
      "metadata": {
        "colab": {
          "base_uri": "https://localhost:8080/",
          "height": 306
        },
        "id": "0gZNgeMHs9Uh",
        "outputId": "4e2576be-3677-4c98-f2bb-3e1c04e778ce"
      },
      "source": [
        "nunique_dtypes(train_df[categorical_features])"
      ],
      "execution_count": 58,
      "outputs": [
        {
          "output_type": "execute_result",
          "data": {
            "text/html": [
              "<div>\n",
              "<style scoped>\n",
              "    .dataframe tbody tr th:only-of-type {\n",
              "        vertical-align: middle;\n",
              "    }\n",
              "\n",
              "    .dataframe tbody tr th {\n",
              "        vertical-align: top;\n",
              "    }\n",
              "\n",
              "    .dataframe thead th {\n",
              "        text-align: right;\n",
              "    }\n",
              "</style>\n",
              "<table border=\"1\" class=\"dataframe\">\n",
              "  <thead>\n",
              "    <tr style=\"text-align: right;\">\n",
              "      <th></th>\n",
              "      <th>0_nunique</th>\n",
              "      <th>0_dtype</th>\n",
              "    </tr>\n",
              "  </thead>\n",
              "  <tbody>\n",
              "    <tr>\n",
              "      <th>grade</th>\n",
              "      <td>7</td>\n",
              "      <td>object</td>\n",
              "    </tr>\n",
              "    <tr>\n",
              "      <th>application_type</th>\n",
              "      <td>2</td>\n",
              "      <td>object</td>\n",
              "    </tr>\n",
              "    <tr>\n",
              "      <th>home_ownership</th>\n",
              "      <td>6</td>\n",
              "      <td>object</td>\n",
              "    </tr>\n",
              "    <tr>\n",
              "      <th>addr_state</th>\n",
              "      <td>51</td>\n",
              "      <td>object</td>\n",
              "    </tr>\n",
              "    <tr>\n",
              "      <th>initial_list_status</th>\n",
              "      <td>2</td>\n",
              "      <td>object</td>\n",
              "    </tr>\n",
              "    <tr>\n",
              "      <th>verification_status</th>\n",
              "      <td>3</td>\n",
              "      <td>object</td>\n",
              "    </tr>\n",
              "    <tr>\n",
              "      <th>pymnt_plan</th>\n",
              "      <td>2</td>\n",
              "      <td>object</td>\n",
              "    </tr>\n",
              "    <tr>\n",
              "      <th>purpose</th>\n",
              "      <td>14</td>\n",
              "      <td>object</td>\n",
              "    </tr>\n",
              "    <tr>\n",
              "      <th>emp_title</th>\n",
              "      <td>145843</td>\n",
              "      <td>object</td>\n",
              "    </tr>\n",
              "  </tbody>\n",
              "</table>\n",
              "</div>"
            ],
            "text/plain": [
              "                     0_nunique 0_dtype\n",
              "grade                        7  object\n",
              "application_type             2  object\n",
              "home_ownership               6  object\n",
              "addr_state                  51  object\n",
              "initial_list_status          2  object\n",
              "verification_status          3  object\n",
              "pymnt_plan                   2  object\n",
              "purpose                     14  object\n",
              "emp_title               145843  object"
            ]
          },
          "metadata": {
            "tags": []
          },
          "execution_count": 58
        }
      ]
    },
    {
      "cell_type": "markdown",
      "metadata": {
        "id": "a5uRiS-CE1fs"
      },
      "source": [
        "emp_title have too many unique values for dummy variable encoding"
      ]
    },
    {
      "cell_type": "code",
      "metadata": {
        "id": "U2HEVtHHK-oc"
      },
      "source": [
        "train_df.drop('emp_title', axis=1, inplace=True)\n",
        "test_df.drop('emp_title', axis=1, inplace=True)"
      ],
      "execution_count": 59,
      "outputs": []
    },
    {
      "cell_type": "code",
      "metadata": {
        "id": "aFOQ-wTOVv82"
      },
      "source": [
        "numerical_features=(list(train_df._get_numeric_data().columns))\n",
        "categorical_features=list(set(train_df.columns)-set(numerical_features))"
      ],
      "execution_count": 60,
      "outputs": []
    },
    {
      "cell_type": "code",
      "metadata": {
        "id": "g2YG9Jf9187I"
      },
      "source": [
        "missing_numerical_features=list(compute_null(train_df)[(compute_null(train_df)['0_dtype']!='object')].index)\n",
        "missing_categorical_features=list(set(compute_null(train_df).index)-set(missing_numerical_features))"
      ],
      "execution_count": 61,
      "outputs": []
    },
    {
      "cell_type": "code",
      "metadata": {
        "colab": {
          "base_uri": "https://localhost:8080/"
        },
        "id": "vzzhSbN-9sOa",
        "outputId": "8923b54e-23ff-4591-b33d-e6ca6d42d3f5"
      },
      "source": [
        "print(\"missing_numerical_features : \" + str(missing_numerical_features))\n",
        "print(\"missing_categorical_features : \" + str(missing_categorical_features))"
      ],
      "execution_count": 62,
      "outputs": [
        {
          "output_type": "stream",
          "text": [
            "missing_numerical_features : ['tot_coll_amt', 'tot_cur_bal', 'total_rev_hi_lim', 'last_week_pay', 'revol_util', 'collections_12_mths_ex_med', 'delinq_2yrs', 'inq_last_6mths', 'open_acc', 'total_acc', 'acc_now_delinq', 'annual_inc']\n",
            "missing_categorical_features : []\n"
          ],
          "name": "stdout"
        }
      ]
    },
    {
      "cell_type": "code",
      "metadata": {
        "id": "kp0HqZBhRYD3"
      },
      "source": [
        "missing_numerical_features_test=list(compute_null(test_df)[(compute_null(test_df)['0_dtype']!='object')].index)\n",
        "missing_categorical_features_test=list(set(compute_null(test_df).index)-set(missing_numerical_features_test))"
      ],
      "execution_count": 63,
      "outputs": []
    },
    {
      "cell_type": "code",
      "metadata": {
        "colab": {
          "base_uri": "https://localhost:8080/"
        },
        "id": "5UyZCDnsRYD3",
        "outputId": "b2f9ee43-e611-48f6-f5f4-0097c11383b2"
      },
      "source": [
        "print(\"missing_numerical_features : \" + str(missing_numerical_features_test))\n",
        "print(\"missing_categorical_features : \" + str(missing_categorical_features_test))"
      ],
      "execution_count": 64,
      "outputs": [
        {
          "output_type": "stream",
          "text": [
            "missing_numerical_features : ['tot_coll_amt', 'tot_cur_bal', 'total_rev_hi_lim', 'last_week_pay', 'revol_util', 'collections_12_mths_ex_med', 'delinq_2yrs', 'inq_last_6mths', 'open_acc', 'pub_rec', 'total_acc', 'acc_now_delinq', 'annual_inc']\n",
            "missing_categorical_features : []\n"
          ],
          "name": "stdout"
        }
      ]
    },
    {
      "cell_type": "code",
      "metadata": {
        "id": "u5cC_KnZqg4-"
      },
      "source": [
        "mod_train_df = pd.get_dummies(train_df, columns=categorical_features, drop_first=True)\n",
        "mod_test_df = pd.get_dummies(test_df, columns=categorical_features, drop_first=True)"
      ],
      "execution_count": 65,
      "outputs": []
    },
    {
      "cell_type": "markdown",
      "metadata": {
        "id": "l83W_G9BFX56"
      },
      "source": [
        "Replacing null values by median"
      ]
    },
    {
      "cell_type": "code",
      "metadata": {
        "id": "mKxAmvFVQyPP"
      },
      "source": [
        "for feature in missing_numerical_features:\n",
        "  mod_train_df[feature]=mod_train_df[feature].replace(np.NaN,mod_train_df[feature].median())\n",
        "\n",
        "for feature in missing_numerical_features_test:\n",
        "  mod_test_df[feature]=mod_test_df[feature].replace(np.NaN,mod_test_df[feature].median())"
      ],
      "execution_count": 66,
      "outputs": []
    },
    {
      "cell_type": "code",
      "metadata": {
        "colab": {
          "base_uri": "https://localhost:8080/",
          "height": 47
        },
        "id": "Xooa6f8q1ika",
        "outputId": "4c693ebc-4b84-4e76-c5b3-b28f606ee18c"
      },
      "source": [
        "compute_null(mod_train_df)"
      ],
      "execution_count": 67,
      "outputs": [
        {
          "output_type": "execute_result",
          "data": {
            "text/html": [
              "<div>\n",
              "<style scoped>\n",
              "    .dataframe tbody tr th:only-of-type {\n",
              "        vertical-align: middle;\n",
              "    }\n",
              "\n",
              "    .dataframe tbody tr th {\n",
              "        vertical-align: top;\n",
              "    }\n",
              "\n",
              "    .dataframe thead th {\n",
              "        text-align: right;\n",
              "    }\n",
              "</style>\n",
              "<table border=\"1\" class=\"dataframe\">\n",
              "  <thead>\n",
              "    <tr style=\"text-align: right;\">\n",
              "      <th></th>\n",
              "      <th>missing_count</th>\n",
              "      <th>missing_percent(%)</th>\n",
              "      <th>0_nunique</th>\n",
              "      <th>0_dtype</th>\n",
              "    </tr>\n",
              "  </thead>\n",
              "  <tbody>\n",
              "  </tbody>\n",
              "</table>\n",
              "</div>"
            ],
            "text/plain": [
              "Empty DataFrame\n",
              "Columns: [missing_count, missing_percent(%), 0_nunique, 0_dtype]\n",
              "Index: []"
            ]
          },
          "metadata": {
            "tags": []
          },
          "execution_count": 67
        }
      ]
    },
    {
      "cell_type": "code",
      "metadata": {
        "colab": {
          "base_uri": "https://localhost:8080/",
          "height": 47
        },
        "id": "s8oNGNnRTBDb",
        "outputId": "1e731327-011c-4801-ba3a-46c18c041a18"
      },
      "source": [
        "compute_null(mod_test_df)"
      ],
      "execution_count": 68,
      "outputs": [
        {
          "output_type": "execute_result",
          "data": {
            "text/html": [
              "<div>\n",
              "<style scoped>\n",
              "    .dataframe tbody tr th:only-of-type {\n",
              "        vertical-align: middle;\n",
              "    }\n",
              "\n",
              "    .dataframe tbody tr th {\n",
              "        vertical-align: top;\n",
              "    }\n",
              "\n",
              "    .dataframe thead th {\n",
              "        text-align: right;\n",
              "    }\n",
              "</style>\n",
              "<table border=\"1\" class=\"dataframe\">\n",
              "  <thead>\n",
              "    <tr style=\"text-align: right;\">\n",
              "      <th></th>\n",
              "      <th>missing_count</th>\n",
              "      <th>missing_percent(%)</th>\n",
              "      <th>0_nunique</th>\n",
              "      <th>0_dtype</th>\n",
              "    </tr>\n",
              "  </thead>\n",
              "  <tbody>\n",
              "  </tbody>\n",
              "</table>\n",
              "</div>"
            ],
            "text/plain": [
              "Empty DataFrame\n",
              "Columns: [missing_count, missing_percent(%), 0_nunique, 0_dtype]\n",
              "Index: []"
            ]
          },
          "metadata": {
            "tags": []
          },
          "execution_count": 68
        }
      ]
    },
    {
      "cell_type": "markdown",
      "metadata": {
        "id": "lGM063UVFdNd"
      },
      "source": [
        "# **Resampling for data balance**"
      ]
    },
    {
      "cell_type": "code",
      "metadata": {
        "id": "jS-5ebm9bUkz"
      },
      "source": [
        "from sklearn.utils import resample"
      ],
      "execution_count": 69,
      "outputs": []
    },
    {
      "cell_type": "code",
      "metadata": {
        "id": "bXXiRdz6La8F",
        "colab": {
          "base_uri": "https://localhost:8080/"
        },
        "outputId": "c3a0fd20-8496-4133-8370-a676792c2e6f"
      },
      "source": [
        "df_majority = mod_train_df[mod_train_df.loan_status==0]\n",
        "df_minority = mod_train_df[mod_train_df.loan_status==1]\n",
        " \n",
        "# Upsample minority class\n",
        "df_minority_upsampled = resample(df_minority, \n",
        "                                 replace=True,     # sample with replacement\n",
        "                                 n_samples=406395,    # to match majority class\n",
        "                                 random_state=123) # reproducible results\n",
        " \n",
        "# Combine majority class with upsampled minority class\n",
        "df_upsampled = pd.concat([df_majority, df_minority_upsampled])\n",
        " \n",
        "# Display new class counts\n",
        "df_upsampled.loan_status.value_counts()"
      ],
      "execution_count": 70,
      "outputs": [
        {
          "output_type": "execute_result",
          "data": {
            "text/plain": [
              "0    406601\n",
              "1    406395\n",
              "Name: loan_status, dtype: int64"
            ]
          },
          "metadata": {
            "tags": []
          },
          "execution_count": 70
        }
      ]
    },
    {
      "cell_type": "code",
      "metadata": {
        "id": "lWhFULvQS8MN"
      },
      "source": [
        "cols=list(df_upsampled.columns)\n",
        "cols.remove(\"loan_status\")"
      ],
      "execution_count": 71,
      "outputs": []
    },
    {
      "cell_type": "code",
      "metadata": {
        "id": "rwP-1mbF0LSr"
      },
      "source": [
        "X_unscaled=(df_upsampled[cols]).astype('float')\n",
        "Y=df_upsampled['loan_status']"
      ],
      "execution_count": 72,
      "outputs": []
    },
    {
      "cell_type": "code",
      "metadata": {
        "colab": {
          "base_uri": "https://localhost:8080/"
        },
        "id": "vMIEq67CTf1D",
        "outputId": "c0a5a77b-56a7-4a89-9fe0-acc61df3075f"
      },
      "source": [
        "set(X_unscaled.columns)-set(mod_test_df.columns)"
      ],
      "execution_count": 73,
      "outputs": [
        {
          "output_type": "execute_result",
          "data": {
            "text/plain": [
              "{'home_ownership_MORTGAGE'}"
            ]
          },
          "metadata": {
            "tags": []
          },
          "execution_count": 73
        }
      ]
    },
    {
      "cell_type": "code",
      "metadata": {
        "id": "AKmSnWoSUs7o"
      },
      "source": [
        "mod_test_df['home_ownership_MORTGAGE']=0"
      ],
      "execution_count": 74,
      "outputs": []
    },
    {
      "cell_type": "markdown",
      "metadata": {
        "id": "SbJWDmR_F2EP"
      },
      "source": [
        "# **Normalising Data**"
      ]
    },
    {
      "cell_type": "code",
      "metadata": {
        "id": "WK5OT-cbjeoe"
      },
      "source": [
        "from sklearn.preprocessing import StandardScaler"
      ],
      "execution_count": 75,
      "outputs": []
    },
    {
      "cell_type": "code",
      "metadata": {
        "id": "-80iewGuYa5v"
      },
      "source": [
        "#Scalling of data\n",
        "sc = StandardScaler()\n",
        "X = sc.fit_transform(X_unscaled)\n",
        "mod_test_df = sc.fit_transform(mod_test_df)"
      ],
      "execution_count": 76,
      "outputs": []
    },
    {
      "cell_type": "code",
      "metadata": {
        "colab": {
          "base_uri": "https://localhost:8080/"
        },
        "id": "hdvy_4xgTUCj",
        "outputId": "cef6455b-cf5b-4076-f184-852eadf30f04"
      },
      "source": [
        "print(X.shape)\n",
        "print(Y.shape)\n",
        "print(mod_test_df.shape)"
      ],
      "execution_count": 77,
      "outputs": [
        {
          "output_type": "stream",
          "text": [
            "(812996, 104)\n",
            "(812996,)\n",
            "(354951, 104)\n"
          ],
          "name": "stdout"
        }
      ]
    },
    {
      "cell_type": "markdown",
      "metadata": {
        "id": "NeXKdLT2WYcu"
      },
      "source": [
        "## **PCA**"
      ]
    },
    {
      "cell_type": "code",
      "metadata": {
        "id": "Vn4az2obWcOB"
      },
      "source": [
        "from sklearn.decomposition import PCA"
      ],
      "execution_count": 78,
      "outputs": []
    },
    {
      "cell_type": "code",
      "metadata": {
        "id": "9a41EUv6ZRFo",
        "colab": {
          "base_uri": "https://localhost:8080/",
          "height": 281
        },
        "outputId": "93941b08-cb10-4a03-eefb-c4d556a1fbfa"
      },
      "source": [
        "#checking explained variance of scaled data\n",
        "pca = PCA()\n",
        "pca.fit(X)\n",
        "cumsum = np.cumsum(pca.explained_variance_ratio_)\n",
        "plt.plot(cumsum)"
      ],
      "execution_count": 79,
      "outputs": [
        {
          "output_type": "execute_result",
          "data": {
            "text/plain": [
              "[<matplotlib.lines.Line2D at 0x7f9cd5cccdd0>]"
            ]
          },
          "metadata": {
            "tags": []
          },
          "execution_count": 79
        },
        {
          "output_type": "display_data",
          "data": {
            "image/png": "[encoded data removed]",
            "text/plain": [
              "<Figure size 432x288 with 1 Axes>"
            ]
          },
          "metadata": {
            "tags": [],
            "needs_background": "light"
          }
        }
      ]
    },
    {
      "cell_type": "markdown",
      "metadata": {
        "id": "ApjhpVB5edel"
      },
      "source": [
        "# **Spliting dataset**"
      ]
    },
    {
      "cell_type": "code",
      "metadata": {
        "id": "RgAD6BaqLayK"
      },
      "source": [
        "#Splitting data into train and test as 4:1\n",
        "from sklearn.model_selection import train_test_split\n",
        "from sklearn.metrics import precision_recall_fscore_support\n",
        "X_train, X_test, y_train, y_test = train_test_split(X, Y, test_size = 0.25, random_state = 0)"
      ],
      "execution_count": 80,
      "outputs": []
    },
    {
      "cell_type": "markdown",
      "metadata": {
        "id": "gHMVyDiXbhIJ"
      },
      "source": [
        "# **Model Building**"
      ]
    },
    {
      "cell_type": "code",
      "metadata": {
        "id": "SROj2UGxc_uw"
      },
      "source": [
        "from sklearn.metrics import roc_auc_score\n",
        "from sklearn.preprocessing import StandardScaler\n",
        "from xgboost import XGBClassifier\n",
        "from sklearn.ensemble import RandomForestClassifier\n",
        "from sklearn.model_selection import cross_val_predict\n",
        "from sklearn.metrics import accuracy_score\n",
        "from lightgbm import LGBMClassifier "
      ],
      "execution_count": 81,
      "outputs": []
    },
    {
      "cell_type": "code",
      "metadata": {
        "id": "5WCEut8Ibjjj"
      },
      "source": [
        "####******** Building Machine learning models *******#####\n",
        "\n",
        "# fuction to check the performance of the regression model using kfold cross validation on explained variance\n",
        "# also checking the score with the training and test dataset\n",
        "def predictions(classification_model, X_train, y_train, X_test, y_test):\n",
        "    classification_model.fit(X_train, y_train)\n",
        "    # here we are taking the k fold parameter as 10. It will divide the whole dataset into 10 equal parts and check performance taking each part one time as test data and other parts as training data\n",
        "    # y_pred = cross_val_predict(estimator=classification_model, X = X_train, y = y_train, cv = 10)\n",
        "    y_pred = classification_model.predict(X_train)\n",
        "    y_pred2 = classification_model.predict(X_test)\n",
        "    report_lr = precision_recall_fscore_support(y_train, y_pred, average='binary')\n",
        "    report_lr2 = precision_recall_fscore_support(y_test, y_pred2, average='binary')\n",
        "    print(\"training metrics\")\n",
        "    print(\"ROC AUC SCORE =\" + str(roc_auc_score(y_train, y_pred)))\n",
        "    print (\"\\nprecision = %0.4f, recall = %0.4f, F1 = %0.4f, accuracy = %0.4f\\n\" % \\\n",
        "           (report_lr[0], report_lr[1], report_lr[2], accuracy_score(y_train, y_pred)))\n",
        "    print(\"testing metrics\")\n",
        "    print(\"ROC AUC SCORE =\" + str(roc_auc_score(y_test, y_pred2)))\n",
        "    print (\"\\nprecision = %0.4f, recall = %0.4f, F1 = %0.4f, accuracy = %0.4f\\n\" % \\\n",
        "           (report_lr2[0], report_lr2[1], report_lr2[2], accuracy_score(y_test, y_pred2)))"
      ],
      "execution_count": 82,
      "outputs": []
    },
    {
      "cell_type": "code",
      "metadata": {
        "id": "ZJhEjqhRf91U",
        "colab": {
          "base_uri": "https://localhost:8080/"
        },
        "outputId": "d08a2117-b0f4-4fdd-cc5d-50de33709721"
      },
      "source": [
        "# Building models with metrics as ROC AUC SCORE\n",
        "models=[RandomForestClassifier(random_state=1),XGBClassifier(random_state=1),LGBMClassifier()]\n",
        "for model in models:\n",
        "    print (model)\n",
        "    predictions(model, X_train, y_train, X_test, y_test)\n",
        "    print(\"****************************************\")"
      ],
      "execution_count": 83,
      "outputs": [
        {
          "output_type": "stream",
          "text": [
            "RandomForestClassifier(bootstrap=True, ccp_alpha=0.0, class_weight=None,\n",
            "                       criterion='gini', max_depth=None, max_features='auto',\n",
            "                       max_leaf_nodes=None, max_samples=None,\n",
            "                       min_impurity_decrease=0.0, min_impurity_split=None,\n",
            "                       min_samples_leaf=1, min_samples_split=2,\n",
            "                       min_weight_fraction_leaf=0.0, n_estimators=100,\n",
            "                       n_jobs=None, oob_score=False, random_state=1, verbose=0,\n",
            "                       warm_start=False)\n",
            "training metrics\n",
            "ROC AUC SCORE =1.0\n",
            "\n",
            "precision = 1.0000, recall = 1.0000, F1 = 1.0000, accuracy = 1.0000\n",
            "\n",
            "testing metrics\n",
            "ROC AUC SCORE =0.9612307237728861\n",
            "\n",
            "precision = 0.9702, recall = 0.9518, F1 = 0.9609, accuracy = 0.9612\n",
            "\n",
            "****************************************\n",
            "XGBClassifier(base_score=0.5, booster='gbtree', colsample_bylevel=1,\n",
            "              colsample_bynode=1, colsample_bytree=1, gamma=0,\n",
            "              learning_rate=0.1, max_delta_step=0, max_depth=3,\n",
            "              min_child_weight=1, missing=None, n_estimators=100, n_jobs=1,\n",
            "              nthread=None, objective='binary:logistic', random_state=1,\n",
            "              reg_alpha=0, reg_lambda=1, scale_pos_weight=1, seed=None,\n",
            "              silent=None, subsample=1, verbosity=1)\n",
            "training metrics\n",
            "ROC AUC SCORE =0.7292835470934153\n",
            "\n",
            "precision = 0.7410, recall = 0.7043, F1 = 0.7222, accuracy = 0.7293\n",
            "\n",
            "testing metrics\n",
            "ROC AUC SCORE =0.7299004701249879\n",
            "\n",
            "precision = 0.7428, recall = 0.7046, F1 = 0.7232, accuracy = 0.7299\n",
            "\n",
            "****************************************\n",
            "LGBMClassifier(boosting_type='gbdt', class_weight=None, colsample_bytree=1.0,\n",
            "               importance_type='split', learning_rate=0.1, max_depth=-1,\n",
            "               min_child_samples=20, min_child_weight=0.001, min_split_gain=0.0,\n",
            "               n_estimators=100, n_jobs=-1, num_leaves=31, objective=None,\n",
            "               random_state=None, reg_alpha=0.0, reg_lambda=0.0, silent=True,\n",
            "               subsample=1.0, subsample_for_bin=200000, subsample_freq=0)\n",
            "training metrics\n",
            "ROC AUC SCORE =0.8298187138822327\n",
            "\n",
            "precision = 0.8699, recall = 0.7754, F1 = 0.8199, accuracy = 0.8299\n",
            "\n",
            "testing metrics\n",
            "ROC AUC SCORE =0.8286611293694253\n",
            "\n",
            "precision = 0.8697, recall = 0.7736, F1 = 0.8188, accuracy = 0.8286\n",
            "\n",
            "****************************************\n"
          ],
          "name": "stdout"
        }
      ]
    },
    {
      "cell_type": "markdown",
      "metadata": {
        "id": "M9EsWiCT3L2p"
      },
      "source": [
        "RandomForestClassifier performs best but is overfitting"
      ]
    },
    {
      "cell_type": "code",
      "metadata": {
        "id": "CV3xf1DeqjAc"
      },
      "source": [
        "##        Hyperparameter tuning             #\n",
        "\n",
        "# #tuning Random Forest for dataset #\n",
        "\n",
        "# from sklearn.model_selection import GridSearchCV\n",
        "# # Random Forest hyperparameter tuning\n",
        "# classifier = RandomForestClassifier(random_state=1)\n",
        "# params = [{'n_estimators' : [100,150],'max_features':['auto', 'sqrt',],\n",
        "#            'min_samples_split':[2,4],'max_depth':[30,35],'min_samples_leaf':[2,3],\n",
        "#            'random_state' :[1]}]\n",
        "# grid_search = GridSearchCV(estimator=classifier, param_grid=params,cv = 2, n_jobs=-1, verbose=100)\n",
        "# grid_search = grid_search.fit(X_train, y_train)\n",
        "# print(grid_search.best_params_)"
      ],
      "execution_count": 84,
      "outputs": []
    },
    {
      "cell_type": "code",
      "metadata": {
        "id": "l6TdZOvGpxRp"
      },
      "source": [
        "estimator=RandomForestClassifier(max_depth=35,max_features='auto',min_samples_leaf=2,min_samples_split=2,n_estimators=100, random_state=1)"
      ],
      "execution_count": 85,
      "outputs": []
    },
    {
      "cell_type": "code",
      "metadata": {
        "id": "t40FQfjGezgL",
        "colab": {
          "base_uri": "https://localhost:8080/"
        },
        "outputId": "095f7062-9757-410f-86fc-46e7bfa86d85"
      },
      "source": [
        "predictions(estimator, X_train, y_train, X_test, y_test)"
      ],
      "execution_count": 86,
      "outputs": [
        {
          "output_type": "stream",
          "text": [
            "training metrics\n",
            "ROC AUC SCORE =0.993173730668993\n",
            "\n",
            "precision = 0.9955, recall = 0.9908, F1 = 0.9932, accuracy = 0.9932\n",
            "\n",
            "testing metrics\n",
            "ROC AUC SCORE =0.9425701973096439\n",
            "\n",
            "precision = 0.9493, recall = 0.9353, F1 = 0.9422, accuracy = 0.9426\n",
            "\n"
          ],
          "name": "stdout"
        }
      ]
    },
    {
      "cell_type": "code",
      "metadata": {
        "id": "NeTVA07Zr6ii"
      },
      "source": [
        "y_pred=  estimator.predict(mod_test_df)"
      ],
      "execution_count": 87,
      "outputs": []
    },
    {
      "cell_type": "code",
      "metadata": {
        "colab": {
          "base_uri": "https://localhost:8080/"
        },
        "id": "1QElr98Y6uSp",
        "outputId": "1e8709de-4aa7-4c9c-96fe-681e06e3298a"
      },
      "source": [
        "set(y_pred)"
      ],
      "execution_count": 88,
      "outputs": [
        {
          "output_type": "execute_result",
          "data": {
            "text/plain": [
              "{0, 1}"
            ]
          },
          "metadata": {
            "tags": []
          },
          "execution_count": 88
        }
      ]
    },
    {
      "cell_type": "code",
      "metadata": {
        "colab": {
          "base_uri": "https://localhost:8080/"
        },
        "id": "YBy8eyxY_JWm",
        "outputId": "a126b4d0-b00f-47a6-a514-f8152e7df0ec"
      },
      "source": [
        "print(np.unique(y_pred, return_counts=True))"
      ],
      "execution_count": 93,
      "outputs": [
        {
          "output_type": "stream",
          "text": [
            "(array([0, 1]), array([308693,  46258]))\n"
          ],
          "name": "stdout"
        }
      ]
    },
    {
      "cell_type": "code",
      "metadata": {
        "id": "xU1rx9hj2lCV"
      },
      "source": [
        "test_df = pd.read_csv(\"/content/drive/MyDrive/ML_Artivatic_dataset/test_indessa.csv\")"
      ],
      "execution_count": 89,
      "outputs": []
    },
    {
      "cell_type": "code",
      "metadata": {
        "colab": {
          "base_uri": "https://localhost:8080/"
        },
        "id": "ZVc1upVP30ZZ",
        "outputId": "908cfb0d-4ea8-4d97-abf9-6e55ce738e25"
      },
      "source": [
        "print(test_df.shape)\n",
        "print(y_pred.shape)"
      ],
      "execution_count": 90,
      "outputs": [
        {
          "output_type": "stream",
          "text": [
            "(354951, 44)\n",
            "(354951,)\n"
          ],
          "name": "stdout"
        }
      ]
    },
    {
      "cell_type": "code",
      "metadata": {
        "id": "q6BBivUv3x0K"
      },
      "source": [
        "test_df['loan_status']=y_pred"
      ],
      "execution_count": 91,
      "outputs": []
    },
    {
      "cell_type": "code",
      "metadata": {
        "colab": {
          "base_uri": "https://localhost:8080/",
          "height": 325
        },
        "id": "N-Mxwc1N_aZA",
        "outputId": "313b6278-aafb-4946-83c9-568a519ea110"
      },
      "source": [
        "test_df.head()"
      ],
      "execution_count": 94,
      "outputs": [
        {
          "output_type": "execute_result",
          "data": {
            "text/html": [
              "<div>\n",
              "<style scoped>\n",
              "    .dataframe tbody tr th:only-of-type {\n",
              "        vertical-align: middle;\n",
              "    }\n",
              "\n",
              "    .dataframe tbody tr th {\n",
              "        vertical-align: top;\n",
              "    }\n",
              "\n",
              "    .dataframe thead th {\n",
              "        text-align: right;\n",
              "    }\n",
              "</style>\n",
              "<table border=\"1\" class=\"dataframe\">\n",
              "  <thead>\n",
              "    <tr style=\"text-align: right;\">\n",
              "      <th></th>\n",
              "      <th>member_id</th>\n",
              "      <th>loan_amnt</th>\n",
              "      <th>funded_amnt</th>\n",
              "      <th>funded_amnt_inv</th>\n",
              "      <th>term</th>\n",
              "      <th>batch_enrolled</th>\n",
              "      <th>int_rate</th>\n",
              "      <th>grade</th>\n",
              "      <th>sub_grade</th>\n",
              "      <th>emp_title</th>\n",
              "      <th>emp_length</th>\n",
              "      <th>home_ownership</th>\n",
              "      <th>annual_inc</th>\n",
              "      <th>verification_status</th>\n",
              "      <th>pymnt_plan</th>\n",
              "      <th>desc</th>\n",
              "      <th>purpose</th>\n",
              "      <th>title</th>\n",
              "      <th>zip_code</th>\n",
              "      <th>addr_state</th>\n",
              "      <th>dti</th>\n",
              "      <th>delinq_2yrs</th>\n",
              "      <th>inq_last_6mths</th>\n",
              "      <th>mths_since_last_delinq</th>\n",
              "      <th>mths_since_last_record</th>\n",
              "      <th>open_acc</th>\n",
              "      <th>pub_rec</th>\n",
              "      <th>revol_bal</th>\n",
              "      <th>revol_util</th>\n",
              "      <th>total_acc</th>\n",
              "      <th>initial_list_status</th>\n",
              "      <th>total_rec_int</th>\n",
              "      <th>total_rec_late_fee</th>\n",
              "      <th>recoveries</th>\n",
              "      <th>collection_recovery_fee</th>\n",
              "      <th>collections_12_mths_ex_med</th>\n",
              "      <th>mths_since_last_major_derog</th>\n",
              "      <th>application_type</th>\n",
              "      <th>verification_status_joint</th>\n",
              "      <th>last_week_pay</th>\n",
              "      <th>acc_now_delinq</th>\n",
              "      <th>tot_coll_amt</th>\n",
              "      <th>tot_cur_bal</th>\n",
              "      <th>total_rev_hi_lim</th>\n",
              "      <th>loan_status</th>\n",
              "    </tr>\n",
              "  </thead>\n",
              "  <tbody>\n",
              "    <tr>\n",
              "      <th>0</th>\n",
              "      <td>11937648</td>\n",
              "      <td>14000</td>\n",
              "      <td>14000</td>\n",
              "      <td>14000.0</td>\n",
              "      <td>60 months</td>\n",
              "      <td>BAT4711174</td>\n",
              "      <td>16.24</td>\n",
              "      <td>C</td>\n",
              "      <td>C5</td>\n",
              "      <td>Data Analyst</td>\n",
              "      <td>4 years</td>\n",
              "      <td>RENT</td>\n",
              "      <td>73500.0</td>\n",
              "      <td>Source Verified</td>\n",
              "      <td>n</td>\n",
              "      <td>NaN</td>\n",
              "      <td>credit_card</td>\n",
              "      <td>wrap it up</td>\n",
              "      <td>450xx</td>\n",
              "      <td>OH</td>\n",
              "      <td>28.65</td>\n",
              "      <td>1.0</td>\n",
              "      <td>1.0</td>\n",
              "      <td>20.0</td>\n",
              "      <td>NaN</td>\n",
              "      <td>16.0</td>\n",
              "      <td>0.0</td>\n",
              "      <td>29828</td>\n",
              "      <td>65.3</td>\n",
              "      <td>53.0</td>\n",
              "      <td>f</td>\n",
              "      <td>3915.61</td>\n",
              "      <td>0.0</td>\n",
              "      <td>0.0</td>\n",
              "      <td>0.0</td>\n",
              "      <td>0.0</td>\n",
              "      <td>NaN</td>\n",
              "      <td>INDIVIDUAL</td>\n",
              "      <td>NaN</td>\n",
              "      <td>104th week</td>\n",
              "      <td>0.0</td>\n",
              "      <td>0.0</td>\n",
              "      <td>85230.0</td>\n",
              "      <td>45700.0</td>\n",
              "      <td>0</td>\n",
              "    </tr>\n",
              "    <tr>\n",
              "      <th>1</th>\n",
              "      <td>38983318</td>\n",
              "      <td>16000</td>\n",
              "      <td>16000</td>\n",
              "      <td>16000.0</td>\n",
              "      <td>60 months</td>\n",
              "      <td>BAT4318899</td>\n",
              "      <td>9.49</td>\n",
              "      <td>B</td>\n",
              "      <td>B2</td>\n",
              "      <td>Senior Database Administrator</td>\n",
              "      <td>5 years</td>\n",
              "      <td>MORTGAGE</td>\n",
              "      <td>105000.0</td>\n",
              "      <td>Source Verified</td>\n",
              "      <td>n</td>\n",
              "      <td>NaN</td>\n",
              "      <td>major_purchase</td>\n",
              "      <td>Major purchase</td>\n",
              "      <td>275xx</td>\n",
              "      <td>NC</td>\n",
              "      <td>31.19</td>\n",
              "      <td>0.0</td>\n",
              "      <td>0.0</td>\n",
              "      <td>NaN</td>\n",
              "      <td>NaN</td>\n",
              "      <td>8.0</td>\n",
              "      <td>0.0</td>\n",
              "      <td>4161</td>\n",
              "      <td>19.4</td>\n",
              "      <td>63.0</td>\n",
              "      <td>w</td>\n",
              "      <td>1495.06</td>\n",
              "      <td>0.0</td>\n",
              "      <td>0.0</td>\n",
              "      <td>0.0</td>\n",
              "      <td>0.0</td>\n",
              "      <td>NaN</td>\n",
              "      <td>INDIVIDUAL</td>\n",
              "      <td>NaN</td>\n",
              "      <td>57th week</td>\n",
              "      <td>0.0</td>\n",
              "      <td>0.0</td>\n",
              "      <td>444991.0</td>\n",
              "      <td>21400.0</td>\n",
              "      <td>0</td>\n",
              "    </tr>\n",
              "    <tr>\n",
              "      <th>2</th>\n",
              "      <td>27999917</td>\n",
              "      <td>11050</td>\n",
              "      <td>11050</td>\n",
              "      <td>11050.0</td>\n",
              "      <td>60 months</td>\n",
              "      <td>BAT446479</td>\n",
              "      <td>15.61</td>\n",
              "      <td>D</td>\n",
              "      <td>D1</td>\n",
              "      <td>Customer service representative</td>\n",
              "      <td>10+ years</td>\n",
              "      <td>RENT</td>\n",
              "      <td>62300.0</td>\n",
              "      <td>Not Verified</td>\n",
              "      <td>n</td>\n",
              "      <td>NaN</td>\n",
              "      <td>debt_consolidation</td>\n",
              "      <td>Debt consolidation</td>\n",
              "      <td>672xx</td>\n",
              "      <td>KS</td>\n",
              "      <td>21.73</td>\n",
              "      <td>1.0</td>\n",
              "      <td>0.0</td>\n",
              "      <td>23.0</td>\n",
              "      <td>115.0</td>\n",
              "      <td>11.0</td>\n",
              "      <td>1.0</td>\n",
              "      <td>12064</td>\n",
              "      <td>74.0</td>\n",
              "      <td>20.0</td>\n",
              "      <td>w</td>\n",
              "      <td>2096.21</td>\n",
              "      <td>0.0</td>\n",
              "      <td>0.0</td>\n",
              "      <td>0.0</td>\n",
              "      <td>0.0</td>\n",
              "      <td>26.0</td>\n",
              "      <td>INDIVIDUAL</td>\n",
              "      <td>NaN</td>\n",
              "      <td>70th week</td>\n",
              "      <td>0.0</td>\n",
              "      <td>0.0</td>\n",
              "      <td>105737.0</td>\n",
              "      <td>16300.0</td>\n",
              "      <td>0</td>\n",
              "    </tr>\n",
              "    <tr>\n",
              "      <th>3</th>\n",
              "      <td>61514932</td>\n",
              "      <td>35000</td>\n",
              "      <td>35000</td>\n",
              "      <td>34700.0</td>\n",
              "      <td>60 months</td>\n",
              "      <td>BAT4664105</td>\n",
              "      <td>12.69</td>\n",
              "      <td>C</td>\n",
              "      <td>C2</td>\n",
              "      <td>ACCT OFFICER</td>\n",
              "      <td>10+ years</td>\n",
              "      <td>OWN</td>\n",
              "      <td>150000.0</td>\n",
              "      <td>Source Verified</td>\n",
              "      <td>n</td>\n",
              "      <td>NaN</td>\n",
              "      <td>debt_consolidation</td>\n",
              "      <td>Debt consolidation</td>\n",
              "      <td>961xx</td>\n",
              "      <td>CA</td>\n",
              "      <td>17.27</td>\n",
              "      <td>0.0</td>\n",
              "      <td>0.0</td>\n",
              "      <td>NaN</td>\n",
              "      <td>NaN</td>\n",
              "      <td>21.0</td>\n",
              "      <td>0.0</td>\n",
              "      <td>32549</td>\n",
              "      <td>45.0</td>\n",
              "      <td>26.0</td>\n",
              "      <td>f</td>\n",
              "      <td>1756.31</td>\n",
              "      <td>0.0</td>\n",
              "      <td>0.0</td>\n",
              "      <td>0.0</td>\n",
              "      <td>0.0</td>\n",
              "      <td>NaN</td>\n",
              "      <td>INDIVIDUAL</td>\n",
              "      <td>NaN</td>\n",
              "      <td>22th week</td>\n",
              "      <td>0.0</td>\n",
              "      <td>0.0</td>\n",
              "      <td>287022.0</td>\n",
              "      <td>72400.0</td>\n",
              "      <td>0</td>\n",
              "    </tr>\n",
              "    <tr>\n",
              "      <th>4</th>\n",
              "      <td>59622821</td>\n",
              "      <td>6500</td>\n",
              "      <td>6500</td>\n",
              "      <td>6500.0</td>\n",
              "      <td>36 months</td>\n",
              "      <td></td>\n",
              "      <td>6.89</td>\n",
              "      <td>A</td>\n",
              "      <td>A3</td>\n",
              "      <td>Paralegal</td>\n",
              "      <td>5 years</td>\n",
              "      <td>MORTGAGE</td>\n",
              "      <td>52000.0</td>\n",
              "      <td>Not Verified</td>\n",
              "      <td>n</td>\n",
              "      <td>NaN</td>\n",
              "      <td>major_purchase</td>\n",
              "      <td>Major purchase</td>\n",
              "      <td>707xx</td>\n",
              "      <td>LA</td>\n",
              "      <td>20.19</td>\n",
              "      <td>0.0</td>\n",
              "      <td>0.0</td>\n",
              "      <td>NaN</td>\n",
              "      <td>NaN</td>\n",
              "      <td>16.0</td>\n",
              "      <td>0.0</td>\n",
              "      <td>5133</td>\n",
              "      <td>19.2</td>\n",
              "      <td>36.0</td>\n",
              "      <td>w</td>\n",
              "      <td>172.21</td>\n",
              "      <td>0.0</td>\n",
              "      <td>0.0</td>\n",
              "      <td>0.0</td>\n",
              "      <td>0.0</td>\n",
              "      <td>NaN</td>\n",
              "      <td>INDIVIDUAL</td>\n",
              "      <td>NaN</td>\n",
              "      <td>22th week</td>\n",
              "      <td>0.0</td>\n",
              "      <td>0.0</td>\n",
              "      <td>234278.0</td>\n",
              "      <td>26700.0</td>\n",
              "      <td>0</td>\n",
              "    </tr>\n",
              "  </tbody>\n",
              "</table>\n",
              "</div>"
            ],
            "text/plain": [
              "   member_id  loan_amnt  ...  total_rev_hi_lim  loan_status\n",
              "0   11937648      14000  ...           45700.0            0\n",
              "1   38983318      16000  ...           21400.0            0\n",
              "2   27999917      11050  ...           16300.0            0\n",
              "3   61514932      35000  ...           72400.0            0\n",
              "4   59622821       6500  ...           26700.0            0\n",
              "\n",
              "[5 rows x 45 columns]"
            ]
          },
          "metadata": {
            "tags": []
          },
          "execution_count": 94
        }
      ]
    },
    {
      "cell_type": "code",
      "metadata": {
        "id": "cV2cfeqL6kOR"
      },
      "source": [
        "(test_df[['member_id','loan_status']]).to_csv(\"loan_submission.csv\",index=False)"
      ],
      "execution_count": 95,
      "outputs": []
    },
    {
      "cell_type": "code",
      "metadata": {
        "id": "HOEBuXwP_uJP"
      },
      "source": [
        ""
      ],
      "execution_count": null,
      "outputs": []
    }
  ]
}